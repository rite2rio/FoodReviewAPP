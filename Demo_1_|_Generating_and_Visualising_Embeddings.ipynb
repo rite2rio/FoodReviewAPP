{
  "nbformat": 4,
  "nbformat_minor": 0,
  "metadata": {
    "colab": {
      "provenance": [],
      "include_colab_link": true
    },
    "kernelspec": {
      "name": "python3",
      "display_name": "Python 3"
    },
    "language_info": {
      "name": "python"
    }
  },
  "cells": [
    {
      "cell_type": "markdown",
      "metadata": {
        "id": "view-in-github",
        "colab_type": "text"
      },
      "source": [
        "<a href=\"https://colab.research.google.com/github/rite2rio/FoodReviewAPP/blob/main/Demo_1_%7C_Generating_and_Visualising_Embeddings.ipynb\" target=\"_parent\"><img src=\"https://colab.research.google.com/assets/colab-badge.svg\" alt=\"Open In Colab\"/></a>"
      ]
    },
    {
      "cell_type": "markdown",
      "source": [
        "## 1. <font color='red'> Mount Google Drive and Read the Data </font>"
      ],
      "metadata": {
        "id": "ODfHAF1TsC_s"
      }
    },
    {
      "cell_type": "code",
      "source": [
        "# Mount Google Drive\n",
        "from google.colab import drive\n",
        "drive.mount('/content/drive')"
      ],
      "metadata": {
        "id": "ohuiUGmwg6DO",
        "colab": {
          "base_uri": "https://localhost:8080/"
        },
        "outputId": "803a1262-4e30-45db-bfce-2b2c9287ce8d"
      },
      "execution_count": null,
      "outputs": [
        {
          "output_type": "stream",
          "name": "stdout",
          "text": [
            "Mounted at /content/drive\n"
          ]
        }
      ]
    },
    {
      "cell_type": "code",
      "source": [
        "# Import the necessary libraries\n",
        "import numpy as np\n",
        "import pandas as pd"
      ],
      "metadata": {
        "id": "SwkkfRrHjJhC"
      },
      "execution_count": null,
      "outputs": []
    },
    {
      "cell_type": "code",
      "source": [
        "filepath = \"/content/drive/My Drive/HelpMate AI Codes/Food App Reviews.csv\"\n",
        "\n",
        "# Load your dataset and convert the review column to list\n",
        "data = pd.read_csv(filepath)"
      ],
      "metadata": {
        "id": "LY3qSmzygm4N"
      },
      "execution_count": null,
      "outputs": []
    },
    {
      "cell_type": "code",
      "source": [
        "# Display the data\n",
        "data"
      ],
      "metadata": {
        "id": "N02E8ZNrlFq0",
        "colab": {
          "base_uri": "https://localhost:8080/",
          "height": 423
        },
        "outputId": "2f5c5f8c-6dd9-4562-8740-92cfe0cdd044"
      },
      "execution_count": null,
      "outputs": [
        {
          "output_type": "execute_result",
          "data": {
            "text/plain": [
              "                                                Review\n",
              "0    Delivery was faster than a ninja on caffeine. ...\n",
              "1    Im pretty sure they had a wall made of recycle...\n",
              "2    Dude Im not even mad they were late. Food arri...\n",
              "3    Chhole bhature yaar! Sunday indulgence crispy ...\n",
              "4    The place had a vibe but I cant quite put my f...\n",
              "..                                                 ...\n",
              "96       Food arrived. I had a taste. Pretty standard.\n",
              "97           Food was delivered. I ate. Cant complain.\n",
              "98   Bao buns? Fluffy clouds of yum. Im in bao heaven.\n",
              "99   Ugh it was so cozy you wouldnt believe. I mean...\n",
              "100                         Ordered food. Ate it. Meh.\n",
              "\n",
              "[101 rows x 1 columns]"
            ],
            "text/html": [
              "\n",
              "  <div id=\"df-f2c1834b-35a6-42b2-8c91-8a51576ef909\" class=\"colab-df-container\">\n",
              "    <div>\n",
              "<style scoped>\n",
              "    .dataframe tbody tr th:only-of-type {\n",
              "        vertical-align: middle;\n",
              "    }\n",
              "\n",
              "    .dataframe tbody tr th {\n",
              "        vertical-align: top;\n",
              "    }\n",
              "\n",
              "    .dataframe thead th {\n",
              "        text-align: right;\n",
              "    }\n",
              "</style>\n",
              "<table border=\"1\" class=\"dataframe\">\n",
              "  <thead>\n",
              "    <tr style=\"text-align: right;\">\n",
              "      <th></th>\n",
              "      <th>Review</th>\n",
              "    </tr>\n",
              "  </thead>\n",
              "  <tbody>\n",
              "    <tr>\n",
              "      <th>0</th>\n",
              "      <td>Delivery was faster than a ninja on caffeine. ...</td>\n",
              "    </tr>\n",
              "    <tr>\n",
              "      <th>1</th>\n",
              "      <td>Im pretty sure they had a wall made of recycle...</td>\n",
              "    </tr>\n",
              "    <tr>\n",
              "      <th>2</th>\n",
              "      <td>Dude Im not even mad they were late. Food arri...</td>\n",
              "    </tr>\n",
              "    <tr>\n",
              "      <th>3</th>\n",
              "      <td>Chhole bhature yaar! Sunday indulgence crispy ...</td>\n",
              "    </tr>\n",
              "    <tr>\n",
              "      <th>4</th>\n",
              "      <td>The place had a vibe but I cant quite put my f...</td>\n",
              "    </tr>\n",
              "    <tr>\n",
              "      <th>...</th>\n",
              "      <td>...</td>\n",
              "    </tr>\n",
              "    <tr>\n",
              "      <th>96</th>\n",
              "      <td>Food arrived. I had a taste. Pretty standard.</td>\n",
              "    </tr>\n",
              "    <tr>\n",
              "      <th>97</th>\n",
              "      <td>Food was delivered. I ate. Cant complain.</td>\n",
              "    </tr>\n",
              "    <tr>\n",
              "      <th>98</th>\n",
              "      <td>Bao buns? Fluffy clouds of yum. Im in bao heaven.</td>\n",
              "    </tr>\n",
              "    <tr>\n",
              "      <th>99</th>\n",
              "      <td>Ugh it was so cozy you wouldnt believe. I mean...</td>\n",
              "    </tr>\n",
              "    <tr>\n",
              "      <th>100</th>\n",
              "      <td>Ordered food. Ate it. Meh.</td>\n",
              "    </tr>\n",
              "  </tbody>\n",
              "</table>\n",
              "<p>101 rows × 1 columns</p>\n",
              "</div>\n",
              "    <div class=\"colab-df-buttons\">\n",
              "\n",
              "  <div class=\"colab-df-container\">\n",
              "    <button class=\"colab-df-convert\" onclick=\"convertToInteractive('df-f2c1834b-35a6-42b2-8c91-8a51576ef909')\"\n",
              "            title=\"Convert this dataframe to an interactive table.\"\n",
              "            style=\"display:none;\">\n",
              "\n",
              "  <svg xmlns=\"http://www.w3.org/2000/svg\" height=\"24px\" viewBox=\"0 -960 960 960\">\n",
              "    <path d=\"M120-120v-720h720v720H120Zm60-500h600v-160H180v160Zm220 220h160v-160H400v160Zm0 220h160v-160H400v160ZM180-400h160v-160H180v160Zm440 0h160v-160H620v160ZM180-180h160v-160H180v160Zm440 0h160v-160H620v160Z\"/>\n",
              "  </svg>\n",
              "    </button>\n",
              "\n",
              "  <style>\n",
              "    .colab-df-container {\n",
              "      display:flex;\n",
              "      gap: 12px;\n",
              "    }\n",
              "\n",
              "    .colab-df-convert {\n",
              "      background-color: #E8F0FE;\n",
              "      border: none;\n",
              "      border-radius: 50%;\n",
              "      cursor: pointer;\n",
              "      display: none;\n",
              "      fill: #1967D2;\n",
              "      height: 32px;\n",
              "      padding: 0 0 0 0;\n",
              "      width: 32px;\n",
              "    }\n",
              "\n",
              "    .colab-df-convert:hover {\n",
              "      background-color: #E2EBFA;\n",
              "      box-shadow: 0px 1px 2px rgba(60, 64, 67, 0.3), 0px 1px 3px 1px rgba(60, 64, 67, 0.15);\n",
              "      fill: #174EA6;\n",
              "    }\n",
              "\n",
              "    .colab-df-buttons div {\n",
              "      margin-bottom: 4px;\n",
              "    }\n",
              "\n",
              "    [theme=dark] .colab-df-convert {\n",
              "      background-color: #3B4455;\n",
              "      fill: #D2E3FC;\n",
              "    }\n",
              "\n",
              "    [theme=dark] .colab-df-convert:hover {\n",
              "      background-color: #434B5C;\n",
              "      box-shadow: 0px 1px 3px 1px rgba(0, 0, 0, 0.15);\n",
              "      filter: drop-shadow(0px 1px 2px rgba(0, 0, 0, 0.3));\n",
              "      fill: #FFFFFF;\n",
              "    }\n",
              "  </style>\n",
              "\n",
              "    <script>\n",
              "      const buttonEl =\n",
              "        document.querySelector('#df-f2c1834b-35a6-42b2-8c91-8a51576ef909 button.colab-df-convert');\n",
              "      buttonEl.style.display =\n",
              "        google.colab.kernel.accessAllowed ? 'block' : 'none';\n",
              "\n",
              "      async function convertToInteractive(key) {\n",
              "        const element = document.querySelector('#df-f2c1834b-35a6-42b2-8c91-8a51576ef909');\n",
              "        const dataTable =\n",
              "          await google.colab.kernel.invokeFunction('convertToInteractive',\n",
              "                                                    [key], {});\n",
              "        if (!dataTable) return;\n",
              "\n",
              "        const docLinkHtml = 'Like what you see? Visit the ' +\n",
              "          '<a target=\"_blank\" href=https://colab.research.google.com/notebooks/data_table.ipynb>data table notebook</a>'\n",
              "          + ' to learn more about interactive tables.';\n",
              "        element.innerHTML = '';\n",
              "        dataTable['output_type'] = 'display_data';\n",
              "        await google.colab.output.renderOutput(dataTable, element);\n",
              "        const docLink = document.createElement('div');\n",
              "        docLink.innerHTML = docLinkHtml;\n",
              "        element.appendChild(docLink);\n",
              "      }\n",
              "    </script>\n",
              "  </div>\n",
              "\n",
              "\n",
              "<div id=\"df-b3b440ee-8ab9-4bfd-8d98-6d0a8a10dc2c\">\n",
              "  <button class=\"colab-df-quickchart\" onclick=\"quickchart('df-b3b440ee-8ab9-4bfd-8d98-6d0a8a10dc2c')\"\n",
              "            title=\"Suggest charts.\"\n",
              "            style=\"display:none;\">\n",
              "\n",
              "<svg xmlns=\"http://www.w3.org/2000/svg\" height=\"24px\"viewBox=\"0 0 24 24\"\n",
              "     width=\"24px\">\n",
              "    <g>\n",
              "        <path d=\"M19 3H5c-1.1 0-2 .9-2 2v14c0 1.1.9 2 2 2h14c1.1 0 2-.9 2-2V5c0-1.1-.9-2-2-2zM9 17H7v-7h2v7zm4 0h-2V7h2v10zm4 0h-2v-4h2v4z\"/>\n",
              "    </g>\n",
              "</svg>\n",
              "  </button>\n",
              "\n",
              "<style>\n",
              "  .colab-df-quickchart {\n",
              "    background-color: #E8F0FE;\n",
              "    border: none;\n",
              "    border-radius: 50%;\n",
              "    cursor: pointer;\n",
              "    display: none;\n",
              "    fill: #1967D2;\n",
              "    height: 32px;\n",
              "    padding: 0 0 0 0;\n",
              "    width: 32px;\n",
              "  }\n",
              "\n",
              "  .colab-df-quickchart:hover {\n",
              "    background-color: #E2EBFA;\n",
              "    box-shadow: 0px 1px 2px rgba(60, 64, 67, 0.3), 0px 1px 3px 1px rgba(60, 64, 67, 0.15);\n",
              "    fill: #174EA6;\n",
              "  }\n",
              "\n",
              "  [theme=dark] .colab-df-quickchart {\n",
              "    background-color: #3B4455;\n",
              "    fill: #D2E3FC;\n",
              "  }\n",
              "\n",
              "  [theme=dark] .colab-df-quickchart:hover {\n",
              "    background-color: #434B5C;\n",
              "    box-shadow: 0px 1px 3px 1px rgba(0, 0, 0, 0.15);\n",
              "    filter: drop-shadow(0px 1px 2px rgba(0, 0, 0, 0.3));\n",
              "    fill: #FFFFFF;\n",
              "  }\n",
              "</style>\n",
              "\n",
              "  <script>\n",
              "    async function quickchart(key) {\n",
              "      const charts = await google.colab.kernel.invokeFunction(\n",
              "          'suggestCharts', [key], {});\n",
              "    }\n",
              "    (() => {\n",
              "      let quickchartButtonEl =\n",
              "        document.querySelector('#df-b3b440ee-8ab9-4bfd-8d98-6d0a8a10dc2c button');\n",
              "      quickchartButtonEl.style.display =\n",
              "        google.colab.kernel.accessAllowed ? 'block' : 'none';\n",
              "    })();\n",
              "  </script>\n",
              "</div>\n",
              "    </div>\n",
              "  </div>\n"
            ]
          },
          "metadata": {},
          "execution_count": 6
        }
      ]
    },
    {
      "cell_type": "code",
      "source": [
        "reviews = data['Review'].tolist()\n",
        "reviews"
      ],
      "metadata": {
        "id": "xSP_HfjarqZ6",
        "colab": {
          "base_uri": "https://localhost:8080/"
        },
        "outputId": "62b27870-d39f-43c7-a627-304a3939a2be"
      },
      "execution_count": null,
      "outputs": [
        {
          "output_type": "execute_result",
          "data": {
            "text/plain": [
              "['Delivery was faster than a ninja on caffeine. Im ready to chow down!',\n",
              " 'Im pretty sure they had a wall made of recycled cans. Or was it shoes?',\n",
              " 'Dude Im not even mad they were late. Food arrived like a surprise party!',\n",
              " 'Chhole bhature yaar! Sunday indulgence crispy bhature FTW.',\n",
              " 'The place had a vibe but I cant quite put my finger on it. Hipster? Unicorn?',\n",
              " 'Hakka noodles FTW! Desi-Chinese fusion for life.',\n",
              " 'Pasta was alright yaar. More masala couldve made it sing.',\n",
              " 'Im telling you it was like stepping into the future. Or was it the 90s?',\n",
              " 'I was starving but the food came faster than I could say hangry. Good stuff.',\n",
              " 'Burgers are my jam but this one was kinda meh. Needed more zing.',\n",
              " 'Sushi was like a flavor adventure. Mini party in my mouth.',\n",
              " 'Dude there was like this mural on the wall. It was a cat no wait a panda?',\n",
              " 'Got the delivery. Ate some. Not bad.',\n",
              " 'Delivery was like chillin in slow-mo. Ive aged at least a year waiting.',\n",
              " 'cheesy nirvana bro. Cheese everywhere happy tummy.',\n",
              " 'Yo they delivered my grub so fast I barely had time to blink. Legendary speed!',\n",
              " 'Greek salad? Healthy vibes but missing that masala.',\n",
              " 'Chole kulche vibes dude. Spicy chickpeas fluffy kulche – love it.',\n",
              " 'I walked in and thought This is it this is the place. But what it was no clue.',\n",
              " 'Im convinced they use teleportation for deliveries. Thats some next-level speed.',\n",
              " 'Pani puri for life man! Tangy spicy street food love.',\n",
              " 'Samosas were like little pockets of happiness. Spicy and crispy da best.',\n",
              " 'I stepped in and was hit by a wall of like smells. Could be food could be candles.',\n",
              " 'Food took so long I had time to write a novel about my hunger. Not amused.',\n",
              " 'Delivery guy came. Food happened. Average.',\n",
              " 'Okay there was like this fountain thingy. Was it water? Im not sure man.',\n",
              " 'Pizza was meh dude. Missing that desi twist ya know?',\n",
              " 'Burgers are life but this one was a bit blah. Needed more oomph.',\n",
              " 'I saw like a disco ball? But it wasnt a disco place. Or maybe it was? Huh.',\n",
              " 'Samosas were like little packets of joy. Crunchy spicy awesome.',\n",
              " 'So like the place was you know kinda nice? There were like lights and stuff.',\n",
              " 'Ugh the samosas I got were meh. So dry and bland yaar.',\n",
              " 'Meaty and dreamy.',\n",
              " 'BBQ ribs? Finger-lickin good bruh. Sauce everywhere!',\n",
              " 'Food arrived fashionably late but at least Im full now. Late-night munchies sorted.',\n",
              " 'Paneer dosa? Desi breakfast goals achieved bruh.',\n",
              " 'Mac n cheese dude! Ultimate comfort food vibes.',\n",
              " 'Dude that butter chicken was like BOOM! My mouth is still partying.',\n",
              " 'Pav bhaji vibes yaar. Tangy spicy Mumbai street food bliss.',\n",
              " 'Biryani was a flavor explosion bruh. Spices doing a happy dance.',\n",
              " 'Biryani was a flavor bomb bro. Spices going wild taste buds dancing.',\n",
              " 'Paneer tikka masala was lit bro! Creamy spicy yaaas.',\n",
              " 'Kaju katli fam! Diwali mode: on. Sweet nutty divine.',\n",
              " 'Delivery happened. I ate. Nothing special.',\n",
              " 'Alright it was dimly lit like a vampire hangout. But like in a cool way.',\n",
              " 'Ordered some grub. Ate it all. Alright.',\n",
              " 'I think they tried to be fancy? There were chandeliers and stuff maybe even gold.',\n",
              " 'Avo toast? Overrated AF. Just smashed avo on bread like really?',\n",
              " 'The ambiance was like woah eclectic. I spotted like three different wallpapers.',\n",
              " 'Samosas fam! Spicy crunchy ultimate comfort food.',\n",
              " 'Received the order. Had a bite. So-so.',\n",
              " 'Paneer tikka rolls? Fast food love desi style. Tummy happy.',\n",
              " 'Biryani was a spice parade yaar. Spices were dancing in my mouth.',\n",
              " 'Pasta was okay bro. Needed more masala Italian-style desi.',\n",
              " 'Kadai paneer? Spices level: awesome. Paneer power!',\n",
              " 'Paneer tikka rolls? Fast food dreams coming true dude.',\n",
              " 'Tacos were meh ya know? Needed more spice and awesomeness.',\n",
              " 'There were like waiters in bowties? Or were they clowns? My memorys blurry.',\n",
              " 'Yo this place was like a whole aesthetic like an art gallery for food or whatever.',\n",
              " 'Food got here just in time to save me from becoming a hangry monster. Phew!',\n",
              " \"Didn't get it on time. Very cold food.\",\n",
              " 'Pizza finally got here. Took longer than a sloth running a marathon. Not cool.',\n",
              " 'Food arrived. I ate. It was okay.',\n",
              " 'Pasta was okay fam. Needed more masala for desi twist.',\n",
              " 'So the lighting was like mood lighting but also like regular lighting. Ambiguous.',\n",
              " 'Sushi was an interesting ride. Sushi samosas anyone?',\n",
              " 'Biryani was legit da bomb! Spices were like hello flavor town.',\n",
              " 'Pasta was aight dude. Needed more masala for desi charm.',\n",
              " 'Ate a snack while waiting for the delivery. And another. And another. You get it.',\n",
              " 'Ordered then binged a whole show and still no food. Whats the point though?',\n",
              " 'Pizza was good man. More cheese wouldve been epic though.',\n",
              " 'I think the delivery person went sightseeing before dropping off my order. So slow.',\n",
              " 'Pav bhaji was like a party in my mouth. Spicy tangy perfection.',\n",
              " 'Okay picture this: plants everywhere. Or were they just fake? Hard to say man.',\n",
              " 'Philly cheesesteak? Cheesy coma bro. Napped like a boss.',\n",
              " 'Got my order. Ate. Generic stuff.',\n",
              " 'Okay so they said 30 minutes but I couldve baked a cake in that time. Seriously?',\n",
              " 'Their delivery game is on point. Food got here quicker than I can say hangry.',\n",
              " 'I ordered then took a nap and boom foods here. Not sure if thats good or bad.',\n",
              " 'Pav bhaji was like a flavor explosion dude. Street food awesomeness.',\n",
              " 'Panipuri was quite horrible. I threw up an hour later.',\n",
              " 'I was expecting a food coma by now but nope still waiting. Not cool guys.',\n",
              " 'I felt like I was in a movie you know? Like a rom-com but with more chairs.',\n",
              " 'Chicken tikka rolls? Fast food heaven right in my mouth.',\n",
              " 'Ugh they made me wait so long that I aged like 10 years. Food better be worth it.',\n",
              " 'The vada pav was like feels all over my mouth.',\n",
              " 'Ramen vibes man. Slurping noodles like a boss college days all over.',\n",
              " 'Pav bhaji vibes man. Spicy tangy street food at home.',\n",
              " 'Waiting for the delivery was like watching paint dry. The food better be divine.',\n",
              " 'Paneer tikka rolls? Desi fast food love every bite a party.',\n",
              " 'I went in and like felt vibes man. The vibes were like totally vibing.',\n",
              " 'The delivery was like supersonic fast. I was impressed and my tummys happy.',\n",
              " 'Biryani game strong fam! Inhaled it faster than my WiFi.',\n",
              " 'I blinked and the food magically appeared. Not really but they were fast yo!',\n",
              " 'Dude the joint had like music but I cant remember if it was like jazz or EDM.',\n",
              " 'Biryani was the flavor hero yaar. Spices were popping party in my mouth.',\n",
              " 'Food arrived. I had a taste. Pretty standard.',\n",
              " 'Food was delivered. I ate. Cant complain.',\n",
              " 'Bao buns? Fluffy clouds of yum. Im in bao heaven.',\n",
              " 'Ugh it was so cozy you wouldnt believe. I mean they had chairs and tables.',\n",
              " 'Ordered food. Ate it. Meh.']"
            ]
          },
          "metadata": {},
          "execution_count": 7
        }
      ]
    },
    {
      "cell_type": "markdown",
      "source": [
        "## 2. <font color='red'> Use SentenceTransformers to Generate Embeddings </font>\n",
        "\n",
        "Sentence Transformers are advanced natural language processing models that encode sentences into high-dimensional vectors. These vectors encapsulate the semantic nuances of text, offering a robust foundation for various text-related tasks, such as clustering, classification, and more.\n",
        "\n",
        "### The Hugging Face Connection\n",
        "Hugging Face, a pioneering platform in NLP, hosts an array of pre-trained models, including Sentence Transformers, that can be readily employed for diverse applications. **sentence-transformers** is a library that provides easy methods to compute embeddings (dense vector representations) for sentences, paragraphs and images. Texts are embedded in a vector space such that similar text is close, which enables applications such as semantic search, clustering, and retrieval.\n",
        "\n",
        "### Sentence Transformers Models\n",
        "Hugging Face's [Sentence Transformers collection](https://huggingface.co/sentence-transformers) includes an assortment of models designed to cater to different use cases. From general-purpose models like BERT and RoBERTa to specialized models fine-tuned for specific tasks, the library provides a plethora of choices for generating embeddings that align with your data's context.\n"
      ],
      "metadata": {
        "id": "rgptK_VDsLls"
      }
    },
    {
      "cell_type": "markdown",
      "source": [
        "#### **`The Mini-LM-6-v2`** models\n",
        "In this demonstration, we'll use a model from the `MiniLM-L6-v2` range of Sentence Transformer models to generate embeddings.\n",
        "\n",
        "\n",
        "\n",
        "Specifically, we will try out the `all-MiniLM-L6-v2` model. The `all-MiniLM-L6-v2` sentence transformer, trained on a large dataset of over 1 billion training pairs, is a model that maps sentences and paragraphs to a 384-dimensional dense vector space. The `all-MiniLM-L6-v2` model is designed as a general-purpose model and offers good quality embeddings. It can be used for tasks like clustering or semantic search."
      ],
      "metadata": {
        "id": "IzlRMtjpCwrX"
      }
    },
    {
      "cell_type": "code",
      "source": [
        "# Install the necessary libraries\n",
        "!pip install sentence-transformers"
      ],
      "metadata": {
        "id": "U4QKEklQgdVt"
      },
      "execution_count": null,
      "outputs": []
    },
    {
      "cell_type": "code",
      "execution_count": null,
      "metadata": {
        "id": "fimTwXmvbm4E"
      },
      "outputs": [],
      "source": [
        "# Import the SentenceTransformer library\n",
        "from sentence_transformers import SentenceTransformer"
      ]
    },
    {
      "cell_type": "code",
      "source": [
        "# Load the embedding model\n",
        "\n",
        "model_name = \"all-MiniLM-L6-v2\"\n",
        "model = SentenceTransformer(model_name)"
      ],
      "metadata": {
        "id": "r8Jr2WMDlIrA"
      },
      "execution_count": null,
      "outputs": []
    },
    {
      "cell_type": "code",
      "source": [
        "# Generate sentence embeddings\n",
        "embeddings = model.encode(reviews)"
      ],
      "metadata": {
        "id": "Fh1W5fXIlIid"
      },
      "execution_count": null,
      "outputs": []
    },
    {
      "cell_type": "code",
      "source": [
        "embeddings"
      ],
      "metadata": {
        "id": "FsGBWHeJsUES",
        "colab": {
          "base_uri": "https://localhost:8080/"
        },
        "outputId": "8bd9ab4f-f48f-4547-dc3d-9741b03009ed"
      },
      "execution_count": null,
      "outputs": [
        {
          "output_type": "execute_result",
          "data": {
            "text/plain": [
              "array([[-0.02161553, -0.0237904 ,  0.01384506, ..., -0.06156018,\n",
              "         0.01630173,  0.00554934],\n",
              "       [-0.09731578,  0.11076359, -0.01295217, ..., -0.0525417 ,\n",
              "         0.01606349,  0.10447756],\n",
              "       [ 0.01570854,  0.01586788,  0.00941277, ...,  0.04045317,\n",
              "        -0.10674311, -0.01165622],\n",
              "       ...,\n",
              "       [ 0.02836104, -0.00742167,  0.04309876, ..., -0.05543452,\n",
              "        -0.03072625, -0.00802862],\n",
              "       [ 0.08122981,  0.08128703,  0.0203298 , ...,  0.03252701,\n",
              "        -0.03796704,  0.04346649],\n",
              "       [ 0.00110725,  0.0891796 ,  0.08465068, ..., -0.00465346,\n",
              "        -0.03415787, -0.02372141]], dtype=float32)"
            ]
          },
          "metadata": {},
          "execution_count": 18
        }
      ]
    },
    {
      "cell_type": "code",
      "source": [
        "# Size/Dimension of each embedding\n",
        "embeddings[0].shape\n"
      ],
      "metadata": {
        "id": "xW5QCt6mRm9G",
        "colab": {
          "base_uri": "https://localhost:8080/"
        },
        "outputId": "94369b31-c6b7-44b6-bd01-624298cd1646"
      },
      "execution_count": null,
      "outputs": [
        {
          "output_type": "execute_result",
          "data": {
            "text/plain": [
              "(384,)"
            ]
          },
          "metadata": {},
          "execution_count": 19
        }
      ]
    },
    {
      "cell_type": "markdown",
      "source": [
        "## 3. <font color='red'> Visualise the Embeddings through Dimensionality Reduction </font>\n",
        "\n",
        "<p align=\"justify\"> Modern datasets often consist of numerous features or attributes, which creates a high-dimensional space in which our data resides. However, when trying to comprehend or visualize such data directly, we run into limitations – our brains struggle to visualize beyond three dimensions, and traditional visualization methods might not accurately represent the relationships between data points in high-dimensional spaces."
      ],
      "metadata": {
        "id": "qL5BuwORsWtB"
      }
    },
    {
      "cell_type": "markdown",
      "source": [
        "\n",
        "UMAP, which stands for [Uniform Manifold Approximation and Projection](https://https://pair-code.github.io/understanding-umap/) is a dimensionality reduction technique that reveals local and global data relationships. It transforms high-dimensional data into a lower-dimensional space, helping us visualize clusters, trends, and similarities.\n",
        "\n",
        "\n",
        "[UMAP](https://umap-learn.readthedocs.io/en/latest/) is a powerful tool in Python that can help us perform dimensionality reduction."
      ],
      "metadata": {
        "id": "719x903LC6Uc"
      }
    },
    {
      "cell_type": "code",
      "source": [
        "# Install the umap-learn library\n",
        "\n",
        "!pip install umap-learn"
      ],
      "metadata": {
        "id": "E5k7CtZXlrF4"
      },
      "execution_count": null,
      "outputs": []
    },
    {
      "cell_type": "code",
      "source": [
        "# Import umap for dimensionality reduction and matplotlib for plotting\n",
        "from umap import UMAP\n",
        "import matplotlib.pyplot as plt"
      ],
      "metadata": {
        "id": "umW7ZD1QrwYw"
      },
      "execution_count": null,
      "outputs": []
    },
    {
      "cell_type": "code",
      "source": [
        "# Generate tensor embeddings\n",
        "\n",
        "embeddings = model.encode(reviews, convert_to_tensor=True)"
      ],
      "metadata": {
        "id": "lbddAAsBdGK2"
      },
      "execution_count": null,
      "outputs": []
    },
    {
      "cell_type": "code",
      "source": [
        "embeddings"
      ],
      "metadata": {
        "colab": {
          "base_uri": "https://localhost:8080/"
        },
        "id": "Y-U5ZNYXpIgy",
        "outputId": "6bf404a9-4e64-4426-c0c5-74d203217b95"
      },
      "execution_count": null,
      "outputs": [
        {
          "output_type": "execute_result",
          "data": {
            "text/plain": [
              "tensor([[-0.0216, -0.0238,  0.0138,  ..., -0.0616,  0.0163,  0.0055],\n",
              "        [-0.0973,  0.1108, -0.0130,  ..., -0.0525,  0.0161,  0.1045],\n",
              "        [ 0.0157,  0.0159,  0.0094,  ...,  0.0405, -0.1067, -0.0117],\n",
              "        ...,\n",
              "        [ 0.0284, -0.0074,  0.0431,  ..., -0.0554, -0.0307, -0.0080],\n",
              "        [ 0.0812,  0.0813,  0.0203,  ...,  0.0325, -0.0380,  0.0435],\n",
              "        [ 0.0011,  0.0892,  0.0847,  ..., -0.0047, -0.0342, -0.0237]])"
            ]
          },
          "metadata": {},
          "execution_count": 34
        }
      ]
    },
    {
      "cell_type": "code",
      "source": [
        "# Reduce dimensionality with UMAP\n",
        "\n",
        "reducer = UMAP(n_components = 2, metric='cosine')\n",
        "embeddings_2d = reducer.fit_transform(embeddings)"
      ],
      "metadata": {
        "id": "niJH4I1DlIYS"
      },
      "execution_count": null,
      "outputs": []
    },
    {
      "cell_type": "code",
      "source": [
        "embeddings_2d"
      ],
      "metadata": {
        "id": "_MV00_R46S3e",
        "colab": {
          "base_uri": "https://localhost:8080/"
        },
        "outputId": "ed12a3bc-f70e-4097-868d-ebbefba9c850"
      },
      "execution_count": null,
      "outputs": [
        {
          "output_type": "execute_result",
          "data": {
            "text/plain": [
              "array([[ 5.5773416 ,  7.3075933 ],\n",
              "       [ 9.552771  ,  8.312004  ],\n",
              "       [ 5.9134593 ,  8.866426  ],\n",
              "       [ 1.3961843 , 10.358965  ],\n",
              "       [10.482977  ,  8.571577  ],\n",
              "       [ 2.4667819 , 10.59067   ],\n",
              "       [ 3.583804  , 11.172933  ],\n",
              "       [10.163384  ,  8.843112  ],\n",
              "       [ 5.007421  ,  8.683323  ],\n",
              "       [ 4.0188565 ,  9.193261  ],\n",
              "       [ 1.1599596 , 11.360435  ],\n",
              "       [10.11479   ,  7.8704185 ],\n",
              "       [ 5.0372477 ,  7.504007  ],\n",
              "       [ 5.395079  ,  7.06885   ],\n",
              "       [ 3.4487028 ,  9.802996  ],\n",
              "       [ 4.790412  ,  7.070847  ],\n",
              "       [ 3.266166  , 11.4114485 ],\n",
              "       [ 1.9154601 , 10.900333  ],\n",
              "       [10.341293  ,  8.33911   ],\n",
              "       [ 5.5155377 ,  6.934664  ],\n",
              "       [ 1.8472271 , 10.337586  ],\n",
              "       [ 1.7961057 , 11.651332  ],\n",
              "       [ 6.1648793 ,  8.065374  ],\n",
              "       [ 5.1253185 ,  8.419579  ],\n",
              "       [ 4.563842  ,  7.5719504 ],\n",
              "       [10.399831  ,  7.8157716 ],\n",
              "       [ 4.1637087 , 10.343545  ],\n",
              "       [ 4.1720695 ,  8.877755  ],\n",
              "       [10.464643  ,  8.720722  ],\n",
              "       [ 1.9014677 , 11.693588  ],\n",
              "       [10.190096  ,  8.463636  ],\n",
              "       [ 2.0635066 , 11.50641   ],\n",
              "       [ 4.514662  ,  9.1953335 ],\n",
              "       [ 3.0004408 ,  9.966153  ],\n",
              "       [ 5.591531  ,  8.364236  ],\n",
              "       [ 2.2293396 ,  9.803226  ],\n",
              "       [ 3.5861874 ,  9.811441  ],\n",
              "       [ 3.2431874 , 10.176234  ],\n",
              "       [ 1.5756111 , 10.5766115 ],\n",
              "       [ 0.35106543, 10.650179  ],\n",
              "       [ 0.48531434, 10.819241  ],\n",
              "       [ 2.1534123 , 10.018159  ],\n",
              "       [ 1.5944091 , 10.526782  ],\n",
              "       [ 4.732058  ,  7.523765  ],\n",
              "       [10.633871  ,  8.451849  ],\n",
              "       [ 4.394069  ,  7.3612857 ],\n",
              "       [ 9.771152  ,  8.400172  ],\n",
              "       [ 1.8440442 , 11.366318  ],\n",
              "       [10.324883  ,  8.039955  ],\n",
              "       [ 2.0518217 , 11.260528  ],\n",
              "       [ 4.842258  ,  7.5627    ],\n",
              "       [ 2.4003    , 10.034831  ],\n",
              "       [ 0.6294857 , 11.092942  ],\n",
              "       [ 3.4917567 , 11.085421  ],\n",
              "       [ 1.7956337 , 10.00792   ],\n",
              "       [ 2.3922453 , 10.048885  ],\n",
              "       [ 1.6344441 , 11.903422  ],\n",
              "       [ 9.735501  ,  8.66099   ],\n",
              "       [10.220086  ,  8.179748  ],\n",
              "       [ 4.8823442 ,  8.99948   ],\n",
              "       [ 5.481898  ,  8.592676  ],\n",
              "       [ 4.8426657 ,  9.536573  ],\n",
              "       [ 4.405613  ,  7.926629  ],\n",
              "       [ 3.3738089 , 11.163025  ],\n",
              "       [10.793744  ,  8.263442  ],\n",
              "       [ 1.4822272 , 11.613987  ],\n",
              "       [ 0.34618834, 11.021555  ],\n",
              "       [ 3.3319833 , 10.973493  ],\n",
              "       [ 4.6320076 ,  7.250763  ],\n",
              "       [ 4.9099517 ,  8.1935835 ],\n",
              "       [ 4.1725793 ,  9.809042  ],\n",
              "       [ 5.372762  ,  6.7911277 ],\n",
              "       [ 1.250701  , 10.613477  ],\n",
              "       [ 9.795941  ,  7.974662  ],\n",
              "       [ 3.8692136 ,  9.934948  ],\n",
              "       [ 4.7803245 ,  7.7604256 ],\n",
              "       [ 5.7465963 ,  8.710492  ],\n",
              "       [ 5.007129  ,  8.71601   ],\n",
              "       [ 5.5559025 ,  8.0447445 ],\n",
              "       [ 1.2847518 , 10.868103  ],\n",
              "       [ 1.881547  ,  9.7196    ],\n",
              "       [ 5.758119  ,  8.385724  ],\n",
              "       [ 9.999216  ,  8.793362  ],\n",
              "       [ 2.6319523 , 10.167217  ],\n",
              "       [ 5.466352  ,  8.258359  ],\n",
              "       [ 1.199203  , 10.716291  ],\n",
              "       [ 2.5911372 , 10.712031  ],\n",
              "       [ 1.9761884 , 10.477311  ],\n",
              "       [ 5.419868  ,  7.6807437 ],\n",
              "       [ 2.2271123 , 10.240587  ],\n",
              "       [10.72833   ,  8.77758   ],\n",
              "       [ 5.196736  ,  7.1258564 ],\n",
              "       [ 0.18411727, 10.934186  ],\n",
              "       [ 5.972116  ,  8.041326  ],\n",
              "       [10.239612  ,  8.937431  ],\n",
              "       [ 0.47595695, 10.822867  ],\n",
              "       [ 5.0940204 ,  7.9538274 ],\n",
              "       [ 4.9817586 ,  7.744095  ],\n",
              "       [ 2.2849855 , 10.95291   ],\n",
              "       [ 9.682683  ,  8.514313  ],\n",
              "       [ 4.5587735 ,  7.9630713 ]], dtype=float32)"
            ]
          },
          "metadata": {},
          "execution_count": 36
        }
      ]
    },
    {
      "cell_type": "code",
      "source": [
        "# Plot the embeddings\n",
        "\n",
        "plt.scatter(embeddings_2d[:, 0], embeddings_2d[:, 1], marker = 'o')\n",
        "plt.title('Food App Review Embeddings')\n",
        "plt.show()"
      ],
      "metadata": {
        "id": "rnq8l5Kjqvf1",
        "colab": {
          "base_uri": "https://localhost:8080/",
          "height": 452
        },
        "outputId": "0f6ca20a-1409-46d2-da75-77028099b4fb"
      },
      "execution_count": null,
      "outputs": [
        {
          "output_type": "display_data",
          "data": {
            "text/plain": [
              "<Figure size 640x480 with 1 Axes>"
            ],
            "image/png": "[encoded data removed]"
          },
          "metadata": {}
        }
      ]
    },
    {
      "cell_type": "markdown",
      "source": [
        "## 4. <font color='red'> Cluster and Visualise the Embeddings with Plotly </font>\n",
        "\n",
        "<p align=\"justify\"> Let's now try and interpret the embedding space. We will first cluster the data points to check similar sentences. Clustering is a vital technique that groups similar data points together based on their closeness to each other.\n",
        "\n",
        "#### From Embeddings to Clusters\n",
        "\n",
        "<p align=\"justify\"> By applying clustering algorithms to our embeddings, we can group together similar embeddings, effectively creating clusters of related data points. This process enables us to uncover meaningful categories or classes within our data and helps us interpret what the clusters actually mean"
      ],
      "metadata": {
        "id": "_YalWpVLsd6D"
      }
    },
    {
      "cell_type": "code",
      "source": [
        "# Import the KMeans library\n",
        "\n",
        "from sklearn.cluster import KMeans"
      ],
      "metadata": {
        "id": "OzkBoFDOvkj6"
      },
      "execution_count": null,
      "outputs": []
    },
    {
      "cell_type": "code",
      "source": [
        "# Apply K-means clustering\n",
        "num_clusters = 3\n",
        "kmeans = KMeans(n_clusters=num_clusters)\n",
        "cluster_labels = kmeans.fit_predict(embeddings_2d)"
      ],
      "metadata": {
        "colab": {
          "base_uri": "https://localhost:8080/"
        },
        "outputId": "6c589f67-ec59-4bbd-c638-851d0c87106e",
        "id": "payXDTi9vkj7"
      },
      "execution_count": null,
      "outputs": [
        {
          "output_type": "stream",
          "name": "stderr",
          "text": [
            "/usr/local/lib/python3.10/dist-packages/sklearn/cluster/_kmeans.py:870: FutureWarning: The default value of `n_init` will change from 10 to 'auto' in 1.4. Set the value of `n_init` explicitly to suppress the warning\n",
            "  warnings.warn(\n"
          ]
        }
      ]
    },
    {
      "cell_type": "code",
      "source": [
        "# Add cluster labels as a new column to the DataFrame\n",
        "data['cluster_label'] = cluster_labels"
      ],
      "metadata": {
        "id": "KT1t3ZtWvkj8"
      },
      "execution_count": null,
      "outputs": []
    },
    {
      "cell_type": "code",
      "source": [
        "data"
      ],
      "metadata": {
        "colab": {
          "base_uri": "https://localhost:8080/",
          "height": 423
        },
        "outputId": "7ed69fc9-583a-4bc6-a6c4-4c236fa57fa0",
        "id": "M30VOwOnvkj8"
      },
      "execution_count": null,
      "outputs": [
        {
          "output_type": "execute_result",
          "data": {
            "text/plain": [
              "                                                Review  cluster_label\n",
              "0    Delivery was faster than a ninja on caffeine. ...              0\n",
              "1    Im pretty sure they had a wall made of recycle...              2\n",
              "2    Dude Im not even mad they were late. Food arri...              0\n",
              "3    Chhole bhature yaar! Sunday indulgence crispy ...              1\n",
              "4    The place had a vibe but I cant quite put my f...              2\n",
              "..                                                 ...            ...\n",
              "96       Food arrived. I had a taste. Pretty standard.              0\n",
              "97           Food was delivered. I ate. Cant complain.              0\n",
              "98   Bao buns? Fluffy clouds of yum. Im in bao heaven.              1\n",
              "99   Ugh it was so cozy you wouldnt believe. I mean...              2\n",
              "100                         Ordered food. Ate it. Meh.              0\n",
              "\n",
              "[101 rows x 2 columns]"
            ],
            "text/html": [
              "\n",
              "  <div id=\"df-7e33156b-cd40-4abf-a719-b0d66849850a\" class=\"colab-df-container\">\n",
              "    <div>\n",
              "<style scoped>\n",
              "    .dataframe tbody tr th:only-of-type {\n",
              "        vertical-align: middle;\n",
              "    }\n",
              "\n",
              "    .dataframe tbody tr th {\n",
              "        vertical-align: top;\n",
              "    }\n",
              "\n",
              "    .dataframe thead th {\n",
              "        text-align: right;\n",
              "    }\n",
              "</style>\n",
              "<table border=\"1\" class=\"dataframe\">\n",
              "  <thead>\n",
              "    <tr style=\"text-align: right;\">\n",
              "      <th></th>\n",
              "      <th>Review</th>\n",
              "      <th>cluster_label</th>\n",
              "    </tr>\n",
              "  </thead>\n",
              "  <tbody>\n",
              "    <tr>\n",
              "      <th>0</th>\n",
              "      <td>Delivery was faster than a ninja on caffeine. ...</td>\n",
              "      <td>0</td>\n",
              "    </tr>\n",
              "    <tr>\n",
              "      <th>1</th>\n",
              "      <td>Im pretty sure they had a wall made of recycle...</td>\n",
              "      <td>2</td>\n",
              "    </tr>\n",
              "    <tr>\n",
              "      <th>2</th>\n",
              "      <td>Dude Im not even mad they were late. Food arri...</td>\n",
              "      <td>0</td>\n",
              "    </tr>\n",
              "    <tr>\n",
              "      <th>3</th>\n",
              "      <td>Chhole bhature yaar! Sunday indulgence crispy ...</td>\n",
              "      <td>1</td>\n",
              "    </tr>\n",
              "    <tr>\n",
              "      <th>4</th>\n",
              "      <td>The place had a vibe but I cant quite put my f...</td>\n",
              "      <td>2</td>\n",
              "    </tr>\n",
              "    <tr>\n",
              "      <th>...</th>\n",
              "      <td>...</td>\n",
              "      <td>...</td>\n",
              "    </tr>\n",
              "    <tr>\n",
              "      <th>96</th>\n",
              "      <td>Food arrived. I had a taste. Pretty standard.</td>\n",
              "      <td>0</td>\n",
              "    </tr>\n",
              "    <tr>\n",
              "      <th>97</th>\n",
              "      <td>Food was delivered. I ate. Cant complain.</td>\n",
              "      <td>0</td>\n",
              "    </tr>\n",
              "    <tr>\n",
              "      <th>98</th>\n",
              "      <td>Bao buns? Fluffy clouds of yum. Im in bao heaven.</td>\n",
              "      <td>1</td>\n",
              "    </tr>\n",
              "    <tr>\n",
              "      <th>99</th>\n",
              "      <td>Ugh it was so cozy you wouldnt believe. I mean...</td>\n",
              "      <td>2</td>\n",
              "    </tr>\n",
              "    <tr>\n",
              "      <th>100</th>\n",
              "      <td>Ordered food. Ate it. Meh.</td>\n",
              "      <td>0</td>\n",
              "    </tr>\n",
              "  </tbody>\n",
              "</table>\n",
              "<p>101 rows × 2 columns</p>\n",
              "</div>\n",
              "    <div class=\"colab-df-buttons\">\n",
              "\n",
              "  <div class=\"colab-df-container\">\n",
              "    <button class=\"colab-df-convert\" onclick=\"convertToInteractive('df-7e33156b-cd40-4abf-a719-b0d66849850a')\"\n",
              "            title=\"Convert this dataframe to an interactive table.\"\n",
              "            style=\"display:none;\">\n",
              "\n",
              "  <svg xmlns=\"http://www.w3.org/2000/svg\" height=\"24px\" viewBox=\"0 -960 960 960\">\n",
              "    <path d=\"M120-120v-720h720v720H120Zm60-500h600v-160H180v160Zm220 220h160v-160H400v160Zm0 220h160v-160H400v160ZM180-400h160v-160H180v160Zm440 0h160v-160H620v160ZM180-180h160v-160H180v160Zm440 0h160v-160H620v160Z\"/>\n",
              "  </svg>\n",
              "    </button>\n",
              "\n",
              "  <style>\n",
              "    .colab-df-container {\n",
              "      display:flex;\n",
              "      gap: 12px;\n",
              "    }\n",
              "\n",
              "    .colab-df-convert {\n",
              "      background-color: #E8F0FE;\n",
              "      border: none;\n",
              "      border-radius: 50%;\n",
              "      cursor: pointer;\n",
              "      display: none;\n",
              "      fill: #1967D2;\n",
              "      height: 32px;\n",
              "      padding: 0 0 0 0;\n",
              "      width: 32px;\n",
              "    }\n",
              "\n",
              "    .colab-df-convert:hover {\n",
              "      background-color: #E2EBFA;\n",
              "      box-shadow: 0px 1px 2px rgba(60, 64, 67, 0.3), 0px 1px 3px 1px rgba(60, 64, 67, 0.15);\n",
              "      fill: #174EA6;\n",
              "    }\n",
              "\n",
              "    .colab-df-buttons div {\n",
              "      margin-bottom: 4px;\n",
              "    }\n",
              "\n",
              "    [theme=dark] .colab-df-convert {\n",
              "      background-color: #3B4455;\n",
              "      fill: #D2E3FC;\n",
              "    }\n",
              "\n",
              "    [theme=dark] .colab-df-convert:hover {\n",
              "      background-color: #434B5C;\n",
              "      box-shadow: 0px 1px 3px 1px rgba(0, 0, 0, 0.15);\n",
              "      filter: drop-shadow(0px 1px 2px rgba(0, 0, 0, 0.3));\n",
              "      fill: #FFFFFF;\n",
              "    }\n",
              "  </style>\n",
              "\n",
              "    <script>\n",
              "      const buttonEl =\n",
              "        document.querySelector('#df-7e33156b-cd40-4abf-a719-b0d66849850a button.colab-df-convert');\n",
              "      buttonEl.style.display =\n",
              "        google.colab.kernel.accessAllowed ? 'block' : 'none';\n",
              "\n",
              "      async function convertToInteractive(key) {\n",
              "        const element = document.querySelector('#df-7e33156b-cd40-4abf-a719-b0d66849850a');\n",
              "        const dataTable =\n",
              "          await google.colab.kernel.invokeFunction('convertToInteractive',\n",
              "                                                    [key], {});\n",
              "        if (!dataTable) return;\n",
              "\n",
              "        const docLinkHtml = 'Like what you see? Visit the ' +\n",
              "          '<a target=\"_blank\" href=https://colab.research.google.com/notebooks/data_table.ipynb>data table notebook</a>'\n",
              "          + ' to learn more about interactive tables.';\n",
              "        element.innerHTML = '';\n",
              "        dataTable['output_type'] = 'display_data';\n",
              "        await google.colab.output.renderOutput(dataTable, element);\n",
              "        const docLink = document.createElement('div');\n",
              "        docLink.innerHTML = docLinkHtml;\n",
              "        element.appendChild(docLink);\n",
              "      }\n",
              "    </script>\n",
              "  </div>\n",
              "\n",
              "\n",
              "<div id=\"df-ad286c12-e536-41d3-b619-628af1c624ce\">\n",
              "  <button class=\"colab-df-quickchart\" onclick=\"quickchart('df-ad286c12-e536-41d3-b619-628af1c624ce')\"\n",
              "            title=\"Suggest charts.\"\n",
              "            style=\"display:none;\">\n",
              "\n",
              "<svg xmlns=\"http://www.w3.org/2000/svg\" height=\"24px\"viewBox=\"0 0 24 24\"\n",
              "     width=\"24px\">\n",
              "    <g>\n",
              "        <path d=\"M19 3H5c-1.1 0-2 .9-2 2v14c0 1.1.9 2 2 2h14c1.1 0 2-.9 2-2V5c0-1.1-.9-2-2-2zM9 17H7v-7h2v7zm4 0h-2V7h2v10zm4 0h-2v-4h2v4z\"/>\n",
              "    </g>\n",
              "</svg>\n",
              "  </button>\n",
              "\n",
              "<style>\n",
              "  .colab-df-quickchart {\n",
              "    background-color: #E8F0FE;\n",
              "    border: none;\n",
              "    border-radius: 50%;\n",
              "    cursor: pointer;\n",
              "    display: none;\n",
              "    fill: #1967D2;\n",
              "    height: 32px;\n",
              "    padding: 0 0 0 0;\n",
              "    width: 32px;\n",
              "  }\n",
              "\n",
              "  .colab-df-quickchart:hover {\n",
              "    background-color: #E2EBFA;\n",
              "    box-shadow: 0px 1px 2px rgba(60, 64, 67, 0.3), 0px 1px 3px 1px rgba(60, 64, 67, 0.15);\n",
              "    fill: #174EA6;\n",
              "  }\n",
              "\n",
              "  [theme=dark] .colab-df-quickchart {\n",
              "    background-color: #3B4455;\n",
              "    fill: #D2E3FC;\n",
              "  }\n",
              "\n",
              "  [theme=dark] .colab-df-quickchart:hover {\n",
              "    background-color: #434B5C;\n",
              "    box-shadow: 0px 1px 3px 1px rgba(0, 0, 0, 0.15);\n",
              "    filter: drop-shadow(0px 1px 2px rgba(0, 0, 0, 0.3));\n",
              "    fill: #FFFFFF;\n",
              "  }\n",
              "</style>\n",
              "\n",
              "  <script>\n",
              "    async function quickchart(key) {\n",
              "      const charts = await google.colab.kernel.invokeFunction(\n",
              "          'suggestCharts', [key], {});\n",
              "    }\n",
              "    (() => {\n",
              "      let quickchartButtonEl =\n",
              "        document.querySelector('#df-ad286c12-e536-41d3-b619-628af1c624ce button');\n",
              "      quickchartButtonEl.style.display =\n",
              "        google.colab.kernel.accessAllowed ? 'block' : 'none';\n",
              "    })();\n",
              "  </script>\n",
              "</div>\n",
              "    </div>\n",
              "  </div>\n"
            ]
          },
          "metadata": {},
          "execution_count": 41
        }
      ]
    },
    {
      "cell_type": "code",
      "source": [
        "# !pip install plotly"
      ],
      "metadata": {
        "id": "aSq-8GsTvkj9"
      },
      "execution_count": null,
      "outputs": []
    },
    {
      "cell_type": "code",
      "source": [
        "import plotly.express as px\n",
        "\n",
        "# Create a DataFrame for the data\n",
        "cluster_df = pd.DataFrame({\n",
        "    'x': embeddings_2d[:, 0],\n",
        "    'y': embeddings_2d[:, 1],\n",
        "    'label': cluster_labels,\n",
        "    'sentence': data['Review']\n",
        "})\n",
        "\n",
        "# Create an interactive scatter plot using plotly\n",
        "fig = px.scatter(\n",
        "    cluster_df,\n",
        "    x='x', y='y',\n",
        "    color='label',\n",
        "    hover_name='sentence',\n",
        "    title='Food App Reviews 2D Embeddings',\n",
        "    labels={'label': 'Cluster'},\n",
        "    width=800,  # Adjust the width as desired\n",
        "    height=600,  # Adjust the height as desired\n",
        ")\n",
        "\n",
        "fig.update_traces(\n",
        "    marker=dict(size=8)  # Adjust the size value as needed\n",
        ")\n",
        "\n",
        "# Set the background color to black\n",
        "fig.update_layout(\n",
        "    plot_bgcolor='white',\n",
        ")\n",
        "\n",
        "fig.show()"
      ],
      "metadata": {
        "colab": {
          "base_uri": "https://localhost:8080/",
          "height": 617
        },
        "outputId": "eaee48ff-591b-4fbe-fdaf-1df417f8ddff",
        "id": "lMjotq0Bvkj9"
      },
      "execution_count": null,
      "outputs": [
        {
          "output_type": "display_data",
          "data": {
            "text/html": [
              "<html>\n",
              "<head><meta charset=\"utf-8\" /></head>\n",
              "<body>\n",
              "    <div>            <script src=\"https://cdnjs.cloudflare.com/ajax/libs/mathjax/2.7.5/MathJax.js?config=TeX-AMS-MML_SVG\"></script><script type=\"text/javascript\">if (window.MathJax && window.MathJax.Hub && window.MathJax.Hub.Config) {window.MathJax.Hub.Config({SVG: {font: \"STIX-Web\"}});}</script>                <script type=\"text/javascript\">window.PlotlyConfig = {MathJaxConfig: 'local'};</script>\n",
              "        <script charset=\"utf-8\" src=\"https://cdn.plot.ly/plotly-2.24.1.min.js\"></script>                <div id=\"5b931c33-687d-4344-bb06-117d41d01dec\" class=\"plotly-graph-div\" style=\"height:600px; width:800px;\"></div>            <script type=\"text/javascript\">                                    window.PLOTLYENV=window.PLOTLYENV || {};                                    if (document.getElementById(\"5b931c33-687d-4344-bb06-117d41d01dec\")) {                    Plotly.newPlot(                        \"5b931c33-687d-4344-bb06-117d41d01dec\",                        [{\"hovertemplate\":\"\\u003cb\\u003e%{hovertext}\\u003c\\u002fb\\u003e\\u003cbr\\u003e\\u003cbr\\u003ex=%{x}\\u003cbr\\u003ey=%{y}\\u003cbr\\u003eCluster=%{marker.color}\\u003cextra\\u003e\\u003c\\u002fextra\\u003e\",\"hovertext\":[\"Delivery was faster than a ninja on caffeine. Im ready to chow down!\",\"Im pretty sure they had a wall made of recycled cans. Or was it shoes?\",\"Dude Im not even mad they were late. Food arrived like a surprise party!\",\"Chhole bhature yaar! Sunday indulgence crispy bhature FTW.\",\"The place had a vibe but I cant quite put my finger on it. Hipster? Unicorn?\",\"Hakka noodles FTW! Desi-Chinese fusion for life.\",\"Pasta was alright yaar. More masala couldve made it sing.\",\"Im telling you it was like stepping into the future. Or was it the 90s?\",\"I was starving but the food came faster than I could say hangry. Good stuff.\",\"Burgers are my jam but this one was kinda meh. Needed more zing.\",\"Sushi was like a flavor adventure. Mini party in my mouth.\",\"Dude there was like this mural on the wall. It was a cat no wait a panda?\",\"Got the delivery. Ate some. Not bad.\",\"Delivery was like chillin in slow-mo. Ive aged at least a year waiting.\",\"cheesy nirvana bro. Cheese everywhere happy tummy.\",\"Yo they delivered my grub so fast I barely had time to blink. Legendary speed!\",\"Greek salad? Healthy vibes but missing that masala.\",\"Chole kulche vibes dude. Spicy chickpeas fluffy kulche \\u2013 love it.\",\"I walked in and thought This is it this is the place. But what it was no clue.\",\"Im convinced they use teleportation for deliveries. Thats some next-level speed.\",\"Pani puri for life man! Tangy spicy street food love.\",\"Samosas were like little pockets of happiness. Spicy and crispy da best.\",\"I stepped in and was hit by a wall of like smells. Could be food could be candles.\",\"Food took so long I had time to write a novel about my hunger. Not amused.\",\"Delivery guy came. Food happened. Average.\",\"Okay there was like this fountain thingy. Was it water? Im not sure man.\",\"Pizza was meh dude. Missing that desi twist ya know?\",\"Burgers are life but this one was a bit blah. Needed more oomph.\",\"I saw like a disco ball? But it wasnt a disco place. Or maybe it was? Huh.\",\"Samosas were like little packets of joy. Crunchy spicy awesome.\",\"So like the place was you know kinda nice? There were like lights and stuff.\",\"Ugh the samosas I got were meh. So dry and bland yaar.\",\"Meaty and dreamy.\",\"BBQ ribs? Finger-lickin good bruh. Sauce everywhere!\",\"Food arrived fashionably late but at least Im full now. Late-night munchies sorted.\",\"Paneer dosa? Desi breakfast goals achieved bruh.\",\"Mac n cheese dude! Ultimate comfort food vibes.\",\"Dude that butter chicken was like BOOM! My mouth is still partying.\",\"Pav bhaji vibes yaar. Tangy spicy Mumbai street food bliss.\",\"Biryani was a flavor explosion bruh. Spices doing a happy dance.\",\"Biryani was a flavor bomb bro. Spices going wild taste buds dancing.\",\"Paneer tikka masala was lit bro! Creamy spicy yaaas.\",\"Kaju katli fam! Diwali mode: on. Sweet nutty divine.\",\"Delivery happened. I ate. Nothing special.\",\"Alright it was dimly lit like a vampire hangout. But like in a cool way.\",\"Ordered some grub. Ate it all. Alright.\",\"I think they tried to be fancy? There were chandeliers and stuff maybe even gold.\",\"Avo toast? Overrated AF. Just smashed avo on bread like really?\",\"The ambiance was like woah eclectic. I spotted like three different wallpapers.\",\"Samosas fam! Spicy crunchy ultimate comfort food.\",\"Received the order. Had a bite. So-so.\",\"Paneer tikka rolls? Fast food love desi style. Tummy happy.\",\"Biryani was a spice parade yaar. Spices were dancing in my mouth.\",\"Pasta was okay bro. Needed more masala Italian-style desi.\",\"Kadai paneer? Spices level: awesome. Paneer power!\",\"Paneer tikka rolls? Fast food dreams coming true dude.\",\"Tacos were meh ya know? Needed more spice and awesomeness.\",\"There were like waiters in bowties? Or were they clowns? My memorys blurry.\",\"Yo this place was like a whole aesthetic like an art gallery for food or whatever.\",\"Food got here just in time to save me from becoming a hangry monster. Phew!\",\"Didn't get it on time. Very cold food.\",\"Pizza finally got here. Took longer than a sloth running a marathon. Not cool.\",\"Food arrived. I ate. It was okay.\",\"Pasta was okay fam. Needed more masala for desi twist.\",\"So the lighting was like mood lighting but also like regular lighting. Ambiguous.\",\"Sushi was an interesting ride. Sushi samosas anyone?\",\"Biryani was legit da bomb! Spices were like hello flavor town.\",\"Pasta was aight dude. Needed more masala for desi charm.\",\"Ate a snack while waiting for the delivery. And another. And another. You get it.\",\"Ordered then binged a whole show and still no food. Whats the point though?\",\"Pizza was good man. More cheese wouldve been epic though.\",\"I think the delivery person went sightseeing before dropping off my order. So slow.\",\"Pav bhaji was like a party in my mouth. Spicy tangy perfection.\",\"Okay picture this: plants everywhere. Or were they just fake? Hard to say man.\",\"Philly cheesesteak? Cheesy coma bro. Napped like a boss.\",\"Got my order. Ate. Generic stuff.\",\"Okay so they said 30 minutes but I couldve baked a cake in that time. Seriously?\",\"Their delivery game is on point. Food got here quicker than I can say hangry.\",\"I ordered then took a nap and boom foods here. Not sure if thats good or bad.\",\"Pav bhaji was like a flavor explosion dude. Street food awesomeness.\",\"Panipuri was quite horrible. I threw up an hour later.\",\"I was expecting a food coma by now but nope still waiting. Not cool guys.\",\"I felt like I was in a movie you know? Like a rom-com but with more chairs.\",\"Chicken tikka rolls? Fast food heaven right in my mouth.\",\"Ugh they made me wait so long that I aged like 10 years. Food better be worth it.\",\"The vada pav was like feels all over my mouth.\",\"Ramen vibes man. Slurping noodles like a boss college days all over.\",\"Pav bhaji vibes man. Spicy tangy street food at home.\",\"Waiting for the delivery was like watching paint dry. The food better be divine.\",\"Paneer tikka rolls? Desi fast food love every bite a party.\",\"I went in and like felt vibes man. The vibes were like totally vibing.\",\"The delivery was like supersonic fast. I was impressed and my tummys happy.\",\"Biryani game strong fam! Inhaled it faster than my WiFi.\",\"I blinked and the food magically appeared. Not really but they were fast yo!\",\"Dude the joint had like music but I cant remember if it was like jazz or EDM.\",\"Biryani was the flavor hero yaar. Spices were popping party in my mouth.\",\"Food arrived. I had a taste. Pretty standard.\",\"Food was delivered. I ate. Cant complain.\",\"Bao buns? Fluffy clouds of yum. Im in bao heaven.\",\"Ugh it was so cozy you wouldnt believe. I mean they had chairs and tables.\",\"Ordered food. Ate it. Meh.\"],\"legendgroup\":\"\",\"marker\":{\"color\":[0,2,0,1,2,1,1,2,0,0,1,2,0,0,1,0,1,1,2,0,1,1,0,0,0,2,1,0,2,1,2,1,0,1,0,1,1,1,1,1,1,1,1,0,2,0,2,1,2,1,0,1,1,1,1,1,1,2,2,0,0,0,0,1,2,1,1,1,0,0,0,0,1,2,1,0,0,0,0,1,1,0,2,1,0,1,1,1,0,1,2,0,1,0,2,1,0,0,1,2,0],\"coloraxis\":\"coloraxis\",\"symbol\":\"circle\",\"size\":8},\"mode\":\"markers\",\"name\":\"\",\"orientation\":\"v\",\"showlegend\":false,\"x\":[5.577341556549072,9.552770614624023,5.913459300994873,1.3961843252182007,10.482976913452148,2.4667818546295166,3.58380389213562,10.163384437561035,5.007421016693115,4.018856525421143,1.1599595546722412,10.114789962768555,5.037247657775879,5.395079135894775,3.448702812194824,4.790411949157715,3.2661659717559814,1.9154601097106934,10.341293334960938,5.515537738800049,1.8472270965576172,1.7961057424545288,6.164879322052002,5.12531852722168,4.563841819763184,10.39983081817627,4.163708686828613,4.172069549560547,10.464642524719238,1.9014676809310913,10.190095901489258,2.063506603240967,4.51466178894043,3.000440835952759,5.591530799865723,2.229339599609375,3.5861873626708984,3.243187427520752,1.5756111145019531,0.35106542706489563,0.48531433939933777,2.153412342071533,1.5944091081619263,4.732058048248291,10.633871078491211,4.394069194793701,9.771151542663574,1.8440442085266113,10.324883460998535,2.051821708679199,4.842257976531982,2.4003000259399414,0.6294857263565063,3.4917566776275635,1.7956336736679077,2.392245292663574,1.6344441175460815,9.735501289367676,10.220086097717285,4.8823442459106445,5.481897830963135,4.842665672302246,4.405612945556641,3.3738088607788086,10.793744087219238,1.4822272062301636,0.34618833661079407,3.3319833278656006,4.632007598876953,4.909951686859131,4.172579288482666,5.372762203216553,1.2507009506225586,9.795941352844238,3.869213581085205,4.780324459075928,5.746596336364746,5.007129192352295,5.555902481079102,1.2847517728805542,1.881546974182129,5.758119106292725,9.999216079711914,2.6319522857666016,5.4663519859313965,1.1992030143737793,2.591137170791626,1.9761884212493896,5.419867992401123,2.227112293243408,10.7283296585083,5.196735858917236,0.18411727249622345,5.972115993499756,10.239611625671387,0.4759569466114044,5.094020366668701,4.9817585945129395,2.2849855422973633,9.682682991027832,4.558773517608643],\"xaxis\":\"x\",\"y\":[7.30759334564209,8.312004089355469,8.866426467895508,10.358964920043945,8.571577072143555,10.590669631958008,11.172932624816895,8.843111991882324,8.68332290649414,9.19326114654541,11.360434532165527,7.870418548583984,7.504006862640381,7.068850040435791,9.802995681762695,7.070847034454346,11.41144847869873,10.900333404541016,8.339110374450684,6.934663772583008,10.337586402893066,11.651331901550293,8.065374374389648,8.419578552246094,7.571950435638428,7.815771579742432,10.343544960021973,8.877755165100098,8.720722198486328,11.693588256835938,8.46363639831543,11.506409645080566,9.195333480834961,9.966153144836426,8.364235877990723,9.803226470947266,9.811441421508789,10.176234245300293,10.576611518859863,10.650178909301758,10.81924057006836,10.018158912658691,10.526782035827637,7.5237650871276855,8.451848983764648,7.36128568649292,8.400172233581543,11.366317749023438,8.039955139160156,11.260527610778809,7.562699794769287,10.034831047058105,11.092942237854004,11.085420608520508,10.007920265197754,10.048885345458984,11.903422355651855,8.660989761352539,8.179747581481934,8.999480247497559,8.592676162719727,9.53657341003418,7.926629066467285,11.16302490234375,8.263442039489746,11.61398696899414,11.021554946899414,10.973492622375488,7.250762939453125,8.193583488464355,9.809041976928711,6.791127681732178,10.613476753234863,7.974661827087402,9.934947967529297,7.760425567626953,8.710492134094238,8.716010093688965,8.044744491577148,10.86810302734375,9.719599723815918,8.385724067687988,8.79336166381836,10.167217254638672,8.2583589553833,10.716291427612305,10.712031364440918,10.477311134338379,7.68074369430542,10.24058723449707,8.777580261230469,7.125856399536133,10.934185981750488,8.041325569152832,8.937431335449219,10.822867393493652,7.953827381134033,7.7440948486328125,10.952910423278809,8.514312744140625,7.963071346282959],\"yaxis\":\"y\",\"type\":\"scatter\"}],                        {\"template\":{\"data\":{\"histogram2dcontour\":[{\"type\":\"histogram2dcontour\",\"colorbar\":{\"outlinewidth\":0,\"ticks\":\"\"},\"colorscale\":[[0.0,\"#0d0887\"],[0.1111111111111111,\"#46039f\"],[0.2222222222222222,\"#7201a8\"],[0.3333333333333333,\"#9c179e\"],[0.4444444444444444,\"#bd3786\"],[0.5555555555555556,\"#d8576b\"],[0.6666666666666666,\"#ed7953\"],[0.7777777777777778,\"#fb9f3a\"],[0.8888888888888888,\"#fdca26\"],[1.0,\"#f0f921\"]]}],\"choropleth\":[{\"type\":\"choropleth\",\"colorbar\":{\"outlinewidth\":0,\"ticks\":\"\"}}],\"histogram2d\":[{\"type\":\"histogram2d\",\"colorbar\":{\"outlinewidth\":0,\"ticks\":\"\"},\"colorscale\":[[0.0,\"#0d0887\"],[0.1111111111111111,\"#46039f\"],[0.2222222222222222,\"#7201a8\"],[0.3333333333333333,\"#9c179e\"],[0.4444444444444444,\"#bd3786\"],[0.5555555555555556,\"#d8576b\"],[0.6666666666666666,\"#ed7953\"],[0.7777777777777778,\"#fb9f3a\"],[0.8888888888888888,\"#fdca26\"],[1.0,\"#f0f921\"]]}],\"heatmap\":[{\"type\":\"heatmap\",\"colorbar\":{\"outlinewidth\":0,\"ticks\":\"\"},\"colorscale\":[[0.0,\"#0d0887\"],[0.1111111111111111,\"#46039f\"],[0.2222222222222222,\"#7201a8\"],[0.3333333333333333,\"#9c179e\"],[0.4444444444444444,\"#bd3786\"],[0.5555555555555556,\"#d8576b\"],[0.6666666666666666,\"#ed7953\"],[0.7777777777777778,\"#fb9f3a\"],[0.8888888888888888,\"#fdca26\"],[1.0,\"#f0f921\"]]}],\"heatmapgl\":[{\"type\":\"heatmapgl\",\"colorbar\":{\"outlinewidth\":0,\"ticks\":\"\"},\"colorscale\":[[0.0,\"#0d0887\"],[0.1111111111111111,\"#46039f\"],[0.2222222222222222,\"#7201a8\"],[0.3333333333333333,\"#9c179e\"],[0.4444444444444444,\"#bd3786\"],[0.5555555555555556,\"#d8576b\"],[0.6666666666666666,\"#ed7953\"],[0.7777777777777778,\"#fb9f3a\"],[0.8888888888888888,\"#fdca26\"],[1.0,\"#f0f921\"]]}],\"contourcarpet\":[{\"type\":\"contourcarpet\",\"colorbar\":{\"outlinewidth\":0,\"ticks\":\"\"}}],\"contour\":[{\"type\":\"contour\",\"colorbar\":{\"outlinewidth\":0,\"ticks\":\"\"},\"colorscale\":[[0.0,\"#0d0887\"],[0.1111111111111111,\"#46039f\"],[0.2222222222222222,\"#7201a8\"],[0.3333333333333333,\"#9c179e\"],[0.4444444444444444,\"#bd3786\"],[0.5555555555555556,\"#d8576b\"],[0.6666666666666666,\"#ed7953\"],[0.7777777777777778,\"#fb9f3a\"],[0.8888888888888888,\"#fdca26\"],[1.0,\"#f0f921\"]]}],\"surface\":[{\"type\":\"surface\",\"colorbar\":{\"outlinewidth\":0,\"ticks\":\"\"},\"colorscale\":[[0.0,\"#0d0887\"],[0.1111111111111111,\"#46039f\"],[0.2222222222222222,\"#7201a8\"],[0.3333333333333333,\"#9c179e\"],[0.4444444444444444,\"#bd3786\"],[0.5555555555555556,\"#d8576b\"],[0.6666666666666666,\"#ed7953\"],[0.7777777777777778,\"#fb9f3a\"],[0.8888888888888888,\"#fdca26\"],[1.0,\"#f0f921\"]]}],\"mesh3d\":[{\"type\":\"mesh3d\",\"colorbar\":{\"outlinewidth\":0,\"ticks\":\"\"}}],\"scatter\":[{\"fillpattern\":{\"fillmode\":\"overlay\",\"size\":10,\"solidity\":0.2},\"type\":\"scatter\"}],\"parcoords\":[{\"type\":\"parcoords\",\"line\":{\"colorbar\":{\"outlinewidth\":0,\"ticks\":\"\"}}}],\"scatterpolargl\":[{\"type\":\"scatterpolargl\",\"marker\":{\"colorbar\":{\"outlinewidth\":0,\"ticks\":\"\"}}}],\"bar\":[{\"error_x\":{\"color\":\"#2a3f5f\"},\"error_y\":{\"color\":\"#2a3f5f\"},\"marker\":{\"line\":{\"color\":\"#E5ECF6\",\"width\":0.5},\"pattern\":{\"fillmode\":\"overlay\",\"size\":10,\"solidity\":0.2}},\"type\":\"bar\"}],\"scattergeo\":[{\"type\":\"scattergeo\",\"marker\":{\"colorbar\":{\"outlinewidth\":0,\"ticks\":\"\"}}}],\"scatterpolar\":[{\"type\":\"scatterpolar\",\"marker\":{\"colorbar\":{\"outlinewidth\":0,\"ticks\":\"\"}}}],\"histogram\":[{\"marker\":{\"pattern\":{\"fillmode\":\"overlay\",\"size\":10,\"solidity\":0.2}},\"type\":\"histogram\"}],\"scattergl\":[{\"type\":\"scattergl\",\"marker\":{\"colorbar\":{\"outlinewidth\":0,\"ticks\":\"\"}}}],\"scatter3d\":[{\"type\":\"scatter3d\",\"line\":{\"colorbar\":{\"outlinewidth\":0,\"ticks\":\"\"}},\"marker\":{\"colorbar\":{\"outlinewidth\":0,\"ticks\":\"\"}}}],\"scattermapbox\":[{\"type\":\"scattermapbox\",\"marker\":{\"colorbar\":{\"outlinewidth\":0,\"ticks\":\"\"}}}],\"scatterternary\":[{\"type\":\"scatterternary\",\"marker\":{\"colorbar\":{\"outlinewidth\":0,\"ticks\":\"\"}}}],\"scattercarpet\":[{\"type\":\"scattercarpet\",\"marker\":{\"colorbar\":{\"outlinewidth\":0,\"ticks\":\"\"}}}],\"carpet\":[{\"aaxis\":{\"endlinecolor\":\"#2a3f5f\",\"gridcolor\":\"white\",\"linecolor\":\"white\",\"minorgridcolor\":\"white\",\"startlinecolor\":\"#2a3f5f\"},\"baxis\":{\"endlinecolor\":\"#2a3f5f\",\"gridcolor\":\"white\",\"linecolor\":\"white\",\"minorgridcolor\":\"white\",\"startlinecolor\":\"#2a3f5f\"},\"type\":\"carpet\"}],\"table\":[{\"cells\":{\"fill\":{\"color\":\"#EBF0F8\"},\"line\":{\"color\":\"white\"}},\"header\":{\"fill\":{\"color\":\"#C8D4E3\"},\"line\":{\"color\":\"white\"}},\"type\":\"table\"}],\"barpolar\":[{\"marker\":{\"line\":{\"color\":\"#E5ECF6\",\"width\":0.5},\"pattern\":{\"fillmode\":\"overlay\",\"size\":10,\"solidity\":0.2}},\"type\":\"barpolar\"}],\"pie\":[{\"automargin\":true,\"type\":\"pie\"}]},\"layout\":{\"autotypenumbers\":\"strict\",\"colorway\":[\"#636efa\",\"#EF553B\",\"#00cc96\",\"#ab63fa\",\"#FFA15A\",\"#19d3f3\",\"#FF6692\",\"#B6E880\",\"#FF97FF\",\"#FECB52\"],\"font\":{\"color\":\"#2a3f5f\"},\"hovermode\":\"closest\",\"hoverlabel\":{\"align\":\"left\"},\"paper_bgcolor\":\"white\",\"plot_bgcolor\":\"#E5ECF6\",\"polar\":{\"bgcolor\":\"#E5ECF6\",\"angularaxis\":{\"gridcolor\":\"white\",\"linecolor\":\"white\",\"ticks\":\"\"},\"radialaxis\":{\"gridcolor\":\"white\",\"linecolor\":\"white\",\"ticks\":\"\"}},\"ternary\":{\"bgcolor\":\"#E5ECF6\",\"aaxis\":{\"gridcolor\":\"white\",\"linecolor\":\"white\",\"ticks\":\"\"},\"baxis\":{\"gridcolor\":\"white\",\"linecolor\":\"white\",\"ticks\":\"\"},\"caxis\":{\"gridcolor\":\"white\",\"linecolor\":\"white\",\"ticks\":\"\"}},\"coloraxis\":{\"colorbar\":{\"outlinewidth\":0,\"ticks\":\"\"}},\"colorscale\":{\"sequential\":[[0.0,\"#0d0887\"],[0.1111111111111111,\"#46039f\"],[0.2222222222222222,\"#7201a8\"],[0.3333333333333333,\"#9c179e\"],[0.4444444444444444,\"#bd3786\"],[0.5555555555555556,\"#d8576b\"],[0.6666666666666666,\"#ed7953\"],[0.7777777777777778,\"#fb9f3a\"],[0.8888888888888888,\"#fdca26\"],[1.0,\"#f0f921\"]],\"sequentialminus\":[[0.0,\"#0d0887\"],[0.1111111111111111,\"#46039f\"],[0.2222222222222222,\"#7201a8\"],[0.3333333333333333,\"#9c179e\"],[0.4444444444444444,\"#bd3786\"],[0.5555555555555556,\"#d8576b\"],[0.6666666666666666,\"#ed7953\"],[0.7777777777777778,\"#fb9f3a\"],[0.8888888888888888,\"#fdca26\"],[1.0,\"#f0f921\"]],\"diverging\":[[0,\"#8e0152\"],[0.1,\"#c51b7d\"],[0.2,\"#de77ae\"],[0.3,\"#f1b6da\"],[0.4,\"#fde0ef\"],[0.5,\"#f7f7f7\"],[0.6,\"#e6f5d0\"],[0.7,\"#b8e186\"],[0.8,\"#7fbc41\"],[0.9,\"#4d9221\"],[1,\"#276419\"]]},\"xaxis\":{\"gridcolor\":\"white\",\"linecolor\":\"white\",\"ticks\":\"\",\"title\":{\"standoff\":15},\"zerolinecolor\":\"white\",\"automargin\":true,\"zerolinewidth\":2},\"yaxis\":{\"gridcolor\":\"white\",\"linecolor\":\"white\",\"ticks\":\"\",\"title\":{\"standoff\":15},\"zerolinecolor\":\"white\",\"automargin\":true,\"zerolinewidth\":2},\"scene\":{\"xaxis\":{\"backgroundcolor\":\"#E5ECF6\",\"gridcolor\":\"white\",\"linecolor\":\"white\",\"showbackground\":true,\"ticks\":\"\",\"zerolinecolor\":\"white\",\"gridwidth\":2},\"yaxis\":{\"backgroundcolor\":\"#E5ECF6\",\"gridcolor\":\"white\",\"linecolor\":\"white\",\"showbackground\":true,\"ticks\":\"\",\"zerolinecolor\":\"white\",\"gridwidth\":2},\"zaxis\":{\"backgroundcolor\":\"#E5ECF6\",\"gridcolor\":\"white\",\"linecolor\":\"white\",\"showbackground\":true,\"ticks\":\"\",\"zerolinecolor\":\"white\",\"gridwidth\":2}},\"shapedefaults\":{\"line\":{\"color\":\"#2a3f5f\"}},\"annotationdefaults\":{\"arrowcolor\":\"#2a3f5f\",\"arrowhead\":0,\"arrowwidth\":1},\"geo\":{\"bgcolor\":\"white\",\"landcolor\":\"#E5ECF6\",\"subunitcolor\":\"white\",\"showland\":true,\"showlakes\":true,\"lakecolor\":\"white\"},\"title\":{\"x\":0.05},\"mapbox\":{\"style\":\"light\"}}},\"xaxis\":{\"anchor\":\"y\",\"domain\":[0.0,1.0],\"title\":{\"text\":\"x\"}},\"yaxis\":{\"anchor\":\"x\",\"domain\":[0.0,1.0],\"title\":{\"text\":\"y\"}},\"coloraxis\":{\"colorbar\":{\"title\":{\"text\":\"Cluster\"}},\"colorscale\":[[0.0,\"#0d0887\"],[0.1111111111111111,\"#46039f\"],[0.2222222222222222,\"#7201a8\"],[0.3333333333333333,\"#9c179e\"],[0.4444444444444444,\"#bd3786\"],[0.5555555555555556,\"#d8576b\"],[0.6666666666666666,\"#ed7953\"],[0.7777777777777778,\"#fb9f3a\"],[0.8888888888888888,\"#fdca26\"],[1.0,\"#f0f921\"]]},\"legend\":{\"tracegroupgap\":0},\"title\":{\"text\":\"Food App Reviews 2D Embeddings\"},\"height\":600,\"width\":800,\"plot_bgcolor\":\"white\"},                        {\"responsive\": true}                    ).then(function(){\n",
              "                            \n",
              "var gd = document.getElementById('5b931c33-687d-4344-bb06-117d41d01dec');\n",
              "var x = new MutationObserver(function (mutations, observer) {{\n",
              "        var display = window.getComputedStyle(gd).display;\n",
              "        if (!display || display === 'none') {{\n",
              "            console.log([gd, 'removed!']);\n",
              "            Plotly.purge(gd);\n",
              "            observer.disconnect();\n",
              "        }}\n",
              "}});\n",
              "\n",
              "// Listen for the removal of the full notebook cells\n",
              "var notebookContainer = gd.closest('#notebook-container');\n",
              "if (notebookContainer) {{\n",
              "    x.observe(notebookContainer, {childList: true});\n",
              "}}\n",
              "\n",
              "// Listen for the clearing of the current output cell\n",
              "var outputEl = gd.closest('.output');\n",
              "if (outputEl) {{\n",
              "    x.observe(outputEl, {childList: true});\n",
              "}}\n",
              "\n",
              "                        })                };                            </script>        </div>\n",
              "</body>\n",
              "</html>"
            ]
          },
          "metadata": {}
        }
      ]
    },
    {
      "cell_type": "markdown",
      "source": [
        "## 5. Visualise the Embeddings in 3D\n",
        "\n",
        "Let's now try to visualise the same embeddings in 3D. The process is almost exactly the same. This time, we will use the UMAP function to reduce the dimension to 3 instead of 2."
      ],
      "metadata": {
        "id": "lYAo4jHJvkj9"
      }
    },
    {
      "cell_type": "code",
      "source": [
        "# Reduce dimensionality to 3 dimensions with UMAP\n",
        "\n",
        "reducer = UMAP(n_components=3, metric='cosine')\n",
        "embeddings_3d = reducer.fit_transform(embeddings)"
      ],
      "metadata": {
        "id": "-zu_NU9Ivkj9"
      },
      "execution_count": null,
      "outputs": []
    },
    {
      "cell_type": "code",
      "source": [
        "# Apply K-means clustering\n",
        "num_clusters = 3\n",
        "kmeans = KMeans(n_clusters=num_clusters)\n",
        "cluster_labels = kmeans.fit_predict(embeddings)"
      ],
      "metadata": {
        "colab": {
          "base_uri": "https://localhost:8080/"
        },
        "outputId": "6754c3ea-337d-462d-9a6e-6aa7bec4134e",
        "id": "Jic0vDkJvkj-"
      },
      "execution_count": null,
      "outputs": [
        {
          "output_type": "stream",
          "name": "stderr",
          "text": [
            "/usr/local/lib/python3.10/dist-packages/sklearn/cluster/_kmeans.py:870: FutureWarning:\n",
            "\n",
            "The default value of `n_init` will change from 10 to 'auto' in 1.4. Set the value of `n_init` explicitly to suppress the warning\n",
            "\n"
          ]
        }
      ]
    },
    {
      "cell_type": "code",
      "source": [
        "# Add cluster labels as a new column to the DataFrame\n",
        "data['cluster_label'] = cluster_labels"
      ],
      "metadata": {
        "id": "PFJ8zUvKvkj-"
      },
      "execution_count": null,
      "outputs": []
    },
    {
      "cell_type": "code",
      "source": [
        "data"
      ],
      "metadata": {
        "colab": {
          "base_uri": "https://localhost:8080/",
          "height": 423
        },
        "outputId": "226b881f-844f-4cf9-b39b-0c8cd967fa2a",
        "id": "bt50hmCfvkj-"
      },
      "execution_count": null,
      "outputs": [
        {
          "output_type": "execute_result",
          "data": {
            "text/plain": [
              "                                                Review  cluster_label\n",
              "0    Delivery was faster than a ninja on caffeine. ...              0\n",
              "1    Im pretty sure they had a wall made of recycle...              2\n",
              "2    Dude Im not even mad they were late. Food arri...              0\n",
              "3    Chhole bhature yaar! Sunday indulgence crispy ...              1\n",
              "4    The place had a vibe but I cant quite put my f...              2\n",
              "..                                                 ...            ...\n",
              "96       Food arrived. I had a taste. Pretty standard.              0\n",
              "97           Food was delivered. I ate. Cant complain.              0\n",
              "98   Bao buns? Fluffy clouds of yum. Im in bao heaven.              1\n",
              "99   Ugh it was so cozy you wouldnt believe. I mean...              2\n",
              "100                         Ordered food. Ate it. Meh.              0\n",
              "\n",
              "[101 rows x 2 columns]"
            ],
            "text/html": [
              "\n",
              "  <div id=\"df-ae0bc63a-5ac5-48bb-9a40-59efa19cd2cf\" class=\"colab-df-container\">\n",
              "    <div>\n",
              "<style scoped>\n",
              "    .dataframe tbody tr th:only-of-type {\n",
              "        vertical-align: middle;\n",
              "    }\n",
              "\n",
              "    .dataframe tbody tr th {\n",
              "        vertical-align: top;\n",
              "    }\n",
              "\n",
              "    .dataframe thead th {\n",
              "        text-align: right;\n",
              "    }\n",
              "</style>\n",
              "<table border=\"1\" class=\"dataframe\">\n",
              "  <thead>\n",
              "    <tr style=\"text-align: right;\">\n",
              "      <th></th>\n",
              "      <th>Review</th>\n",
              "      <th>cluster_label</th>\n",
              "    </tr>\n",
              "  </thead>\n",
              "  <tbody>\n",
              "    <tr>\n",
              "      <th>0</th>\n",
              "      <td>Delivery was faster than a ninja on caffeine. ...</td>\n",
              "      <td>0</td>\n",
              "    </tr>\n",
              "    <tr>\n",
              "      <th>1</th>\n",
              "      <td>Im pretty sure they had a wall made of recycle...</td>\n",
              "      <td>2</td>\n",
              "    </tr>\n",
              "    <tr>\n",
              "      <th>2</th>\n",
              "      <td>Dude Im not even mad they were late. Food arri...</td>\n",
              "      <td>0</td>\n",
              "    </tr>\n",
              "    <tr>\n",
              "      <th>3</th>\n",
              "      <td>Chhole bhature yaar! Sunday indulgence crispy ...</td>\n",
              "      <td>1</td>\n",
              "    </tr>\n",
              "    <tr>\n",
              "      <th>4</th>\n",
              "      <td>The place had a vibe but I cant quite put my f...</td>\n",
              "      <td>2</td>\n",
              "    </tr>\n",
              "    <tr>\n",
              "      <th>...</th>\n",
              "      <td>...</td>\n",
              "      <td>...</td>\n",
              "    </tr>\n",
              "    <tr>\n",
              "      <th>96</th>\n",
              "      <td>Food arrived. I had a taste. Pretty standard.</td>\n",
              "      <td>0</td>\n",
              "    </tr>\n",
              "    <tr>\n",
              "      <th>97</th>\n",
              "      <td>Food was delivered. I ate. Cant complain.</td>\n",
              "      <td>0</td>\n",
              "    </tr>\n",
              "    <tr>\n",
              "      <th>98</th>\n",
              "      <td>Bao buns? Fluffy clouds of yum. Im in bao heaven.</td>\n",
              "      <td>1</td>\n",
              "    </tr>\n",
              "    <tr>\n",
              "      <th>99</th>\n",
              "      <td>Ugh it was so cozy you wouldnt believe. I mean...</td>\n",
              "      <td>2</td>\n",
              "    </tr>\n",
              "    <tr>\n",
              "      <th>100</th>\n",
              "      <td>Ordered food. Ate it. Meh.</td>\n",
              "      <td>0</td>\n",
              "    </tr>\n",
              "  </tbody>\n",
              "</table>\n",
              "<p>101 rows × 2 columns</p>\n",
              "</div>\n",
              "    <div class=\"colab-df-buttons\">\n",
              "\n",
              "  <div class=\"colab-df-container\">\n",
              "    <button class=\"colab-df-convert\" onclick=\"convertToInteractive('df-ae0bc63a-5ac5-48bb-9a40-59efa19cd2cf')\"\n",
              "            title=\"Convert this dataframe to an interactive table.\"\n",
              "            style=\"display:none;\">\n",
              "\n",
              "  <svg xmlns=\"http://www.w3.org/2000/svg\" height=\"24px\" viewBox=\"0 -960 960 960\">\n",
              "    <path d=\"M120-120v-720h720v720H120Zm60-500h600v-160H180v160Zm220 220h160v-160H400v160Zm0 220h160v-160H400v160ZM180-400h160v-160H180v160Zm440 0h160v-160H620v160ZM180-180h160v-160H180v160Zm440 0h160v-160H620v160Z\"/>\n",
              "  </svg>\n",
              "    </button>\n",
              "\n",
              "  <style>\n",
              "    .colab-df-container {\n",
              "      display:flex;\n",
              "      gap: 12px;\n",
              "    }\n",
              "\n",
              "    .colab-df-convert {\n",
              "      background-color: #E8F0FE;\n",
              "      border: none;\n",
              "      border-radius: 50%;\n",
              "      cursor: pointer;\n",
              "      display: none;\n",
              "      fill: #1967D2;\n",
              "      height: 32px;\n",
              "      padding: 0 0 0 0;\n",
              "      width: 32px;\n",
              "    }\n",
              "\n",
              "    .colab-df-convert:hover {\n",
              "      background-color: #E2EBFA;\n",
              "      box-shadow: 0px 1px 2px rgba(60, 64, 67, 0.3), 0px 1px 3px 1px rgba(60, 64, 67, 0.15);\n",
              "      fill: #174EA6;\n",
              "    }\n",
              "\n",
              "    .colab-df-buttons div {\n",
              "      margin-bottom: 4px;\n",
              "    }\n",
              "\n",
              "    [theme=dark] .colab-df-convert {\n",
              "      background-color: #3B4455;\n",
              "      fill: #D2E3FC;\n",
              "    }\n",
              "\n",
              "    [theme=dark] .colab-df-convert:hover {\n",
              "      background-color: #434B5C;\n",
              "      box-shadow: 0px 1px 3px 1px rgba(0, 0, 0, 0.15);\n",
              "      filter: drop-shadow(0px 1px 2px rgba(0, 0, 0, 0.3));\n",
              "      fill: #FFFFFF;\n",
              "    }\n",
              "  </style>\n",
              "\n",
              "    <script>\n",
              "      const buttonEl =\n",
              "        document.querySelector('#df-ae0bc63a-5ac5-48bb-9a40-59efa19cd2cf button.colab-df-convert');\n",
              "      buttonEl.style.display =\n",
              "        google.colab.kernel.accessAllowed ? 'block' : 'none';\n",
              "\n",
              "      async function convertToInteractive(key) {\n",
              "        const element = document.querySelector('#df-ae0bc63a-5ac5-48bb-9a40-59efa19cd2cf');\n",
              "        const dataTable =\n",
              "          await google.colab.kernel.invokeFunction('convertToInteractive',\n",
              "                                                    [key], {});\n",
              "        if (!dataTable) return;\n",
              "\n",
              "        const docLinkHtml = 'Like what you see? Visit the ' +\n",
              "          '<a target=\"_blank\" href=https://colab.research.google.com/notebooks/data_table.ipynb>data table notebook</a>'\n",
              "          + ' to learn more about interactive tables.';\n",
              "        element.innerHTML = '';\n",
              "        dataTable['output_type'] = 'display_data';\n",
              "        await google.colab.output.renderOutput(dataTable, element);\n",
              "        const docLink = document.createElement('div');\n",
              "        docLink.innerHTML = docLinkHtml;\n",
              "        element.appendChild(docLink);\n",
              "      }\n",
              "    </script>\n",
              "  </div>\n",
              "\n",
              "\n",
              "<div id=\"df-b1ee15a1-87cd-49c2-8a15-a163abc176f4\">\n",
              "  <button class=\"colab-df-quickchart\" onclick=\"quickchart('df-b1ee15a1-87cd-49c2-8a15-a163abc176f4')\"\n",
              "            title=\"Suggest charts.\"\n",
              "            style=\"display:none;\">\n",
              "\n",
              "<svg xmlns=\"http://www.w3.org/2000/svg\" height=\"24px\"viewBox=\"0 0 24 24\"\n",
              "     width=\"24px\">\n",
              "    <g>\n",
              "        <path d=\"M19 3H5c-1.1 0-2 .9-2 2v14c0 1.1.9 2 2 2h14c1.1 0 2-.9 2-2V5c0-1.1-.9-2-2-2zM9 17H7v-7h2v7zm4 0h-2V7h2v10zm4 0h-2v-4h2v4z\"/>\n",
              "    </g>\n",
              "</svg>\n",
              "  </button>\n",
              "\n",
              "<style>\n",
              "  .colab-df-quickchart {\n",
              "    background-color: #E8F0FE;\n",
              "    border: none;\n",
              "    border-radius: 50%;\n",
              "    cursor: pointer;\n",
              "    display: none;\n",
              "    fill: #1967D2;\n",
              "    height: 32px;\n",
              "    padding: 0 0 0 0;\n",
              "    width: 32px;\n",
              "  }\n",
              "\n",
              "  .colab-df-quickchart:hover {\n",
              "    background-color: #E2EBFA;\n",
              "    box-shadow: 0px 1px 2px rgba(60, 64, 67, 0.3), 0px 1px 3px 1px rgba(60, 64, 67, 0.15);\n",
              "    fill: #174EA6;\n",
              "  }\n",
              "\n",
              "  [theme=dark] .colab-df-quickchart {\n",
              "    background-color: #3B4455;\n",
              "    fill: #D2E3FC;\n",
              "  }\n",
              "\n",
              "  [theme=dark] .colab-df-quickchart:hover {\n",
              "    background-color: #434B5C;\n",
              "    box-shadow: 0px 1px 3px 1px rgba(0, 0, 0, 0.15);\n",
              "    filter: drop-shadow(0px 1px 2px rgba(0, 0, 0, 0.3));\n",
              "    fill: #FFFFFF;\n",
              "  }\n",
              "</style>\n",
              "\n",
              "  <script>\n",
              "    async function quickchart(key) {\n",
              "      const charts = await google.colab.kernel.invokeFunction(\n",
              "          'suggestCharts', [key], {});\n",
              "    }\n",
              "    (() => {\n",
              "      let quickchartButtonEl =\n",
              "        document.querySelector('#df-b1ee15a1-87cd-49c2-8a15-a163abc176f4 button');\n",
              "      quickchartButtonEl.style.display =\n",
              "        google.colab.kernel.accessAllowed ? 'block' : 'none';\n",
              "    })();\n",
              "  </script>\n",
              "</div>\n",
              "    </div>\n",
              "  </div>\n"
            ]
          },
          "metadata": {},
          "execution_count": 46
        }
      ]
    },
    {
      "cell_type": "code",
      "source": [
        "# Create a DataFrame for the data\n",
        "cluster_df = pd.DataFrame({\n",
        "    'x': embeddings_3d[:, 0],\n",
        "    'y': embeddings_3d[:, 1],\n",
        "    'z': embeddings_3d[:, 2],\n",
        "    'label': cluster_labels,\n",
        "    'sentence': data['Review']\n",
        "})\n",
        "\n",
        "# Create a 3D scatter plot using plotly\n",
        "fig = px.scatter_3d(\n",
        "    cluster_df,\n",
        "    x='x', y='y', z='z',\n",
        "    color='label',\n",
        "    hover_name='sentence',\n",
        "    title='Food App Reviews 3D Embeddings',\n",
        "    labels={'label': 'Cluster'},\n",
        ")\n",
        "\n",
        "fig.update_traces(\n",
        "    marker=dict(size=5)  # Adjust the size value as needed\n",
        ")\n",
        "\n",
        "fig.show()"
      ],
      "metadata": {
        "colab": {
          "base_uri": "https://localhost:8080/",
          "height": 542
        },
        "outputId": "c392cc27-9a1f-400a-b602-bff1fe31398e",
        "id": "SVtV8Bi7vkj-"
      },
      "execution_count": null,
      "outputs": [
        {
          "output_type": "display_data",
          "data": {
            "text/html": [
              "<html>\n",
              "<head><meta charset=\"utf-8\" /></head>\n",
              "<body>\n",
              "    <div>            <script src=\"https://cdnjs.cloudflare.com/ajax/libs/mathjax/2.7.5/MathJax.js?config=TeX-AMS-MML_SVG\"></script><script type=\"text/javascript\">if (window.MathJax && window.MathJax.Hub && window.MathJax.Hub.Config) {window.MathJax.Hub.Config({SVG: {font: \"STIX-Web\"}});}</script>                <script type=\"text/javascript\">window.PlotlyConfig = {MathJaxConfig: 'local'};</script>\n",
              "        <script charset=\"utf-8\" src=\"https://cdn.plot.ly/plotly-2.24.1.min.js\"></script>                <div id=\"08375774-7b5e-4253-af56-6da99a7d1a7b\" class=\"plotly-graph-div\" style=\"height:525px; width:100%;\"></div>            <script type=\"text/javascript\">                                    window.PLOTLYENV=window.PLOTLYENV || {};                                    if (document.getElementById(\"08375774-7b5e-4253-af56-6da99a7d1a7b\")) {                    Plotly.newPlot(                        \"08375774-7b5e-4253-af56-6da99a7d1a7b\",                        [{\"hovertemplate\":\"\\u003cb\\u003e%{hovertext}\\u003c\\u002fb\\u003e\\u003cbr\\u003e\\u003cbr\\u003ex=%{x}\\u003cbr\\u003ey=%{y}\\u003cbr\\u003ez=%{z}\\u003cbr\\u003eCluster=%{marker.color}\\u003cextra\\u003e\\u003c\\u002fextra\\u003e\",\"hovertext\":[\"Delivery was faster than a ninja on caffeine. Im ready to chow down!\",\"Im pretty sure they had a wall made of recycled cans. Or was it shoes?\",\"Dude Im not even mad they were late. Food arrived like a surprise party!\",\"Chhole bhature yaar! Sunday indulgence crispy bhature FTW.\",\"The place had a vibe but I cant quite put my finger on it. Hipster? Unicorn?\",\"Hakka noodles FTW! Desi-Chinese fusion for life.\",\"Pasta was alright yaar. More masala couldve made it sing.\",\"Im telling you it was like stepping into the future. Or was it the 90s?\",\"I was starving but the food came faster than I could say hangry. Good stuff.\",\"Burgers are my jam but this one was kinda meh. Needed more zing.\",\"Sushi was like a flavor adventure. Mini party in my mouth.\",\"Dude there was like this mural on the wall. It was a cat no wait a panda?\",\"Got the delivery. Ate some. Not bad.\",\"Delivery was like chillin in slow-mo. Ive aged at least a year waiting.\",\"cheesy nirvana bro. Cheese everywhere happy tummy.\",\"Yo they delivered my grub so fast I barely had time to blink. Legendary speed!\",\"Greek salad? Healthy vibes but missing that masala.\",\"Chole kulche vibes dude. Spicy chickpeas fluffy kulche \\u2013 love it.\",\"I walked in and thought This is it this is the place. But what it was no clue.\",\"Im convinced they use teleportation for deliveries. Thats some next-level speed.\",\"Pani puri for life man! Tangy spicy street food love.\",\"Samosas were like little pockets of happiness. Spicy and crispy da best.\",\"I stepped in and was hit by a wall of like smells. Could be food could be candles.\",\"Food took so long I had time to write a novel about my hunger. Not amused.\",\"Delivery guy came. Food happened. Average.\",\"Okay there was like this fountain thingy. Was it water? Im not sure man.\",\"Pizza was meh dude. Missing that desi twist ya know?\",\"Burgers are life but this one was a bit blah. Needed more oomph.\",\"I saw like a disco ball? But it wasnt a disco place. Or maybe it was? Huh.\",\"Samosas were like little packets of joy. Crunchy spicy awesome.\",\"So like the place was you know kinda nice? There were like lights and stuff.\",\"Ugh the samosas I got were meh. So dry and bland yaar.\",\"Meaty and dreamy.\",\"BBQ ribs? Finger-lickin good bruh. Sauce everywhere!\",\"Food arrived fashionably late but at least Im full now. Late-night munchies sorted.\",\"Paneer dosa? Desi breakfast goals achieved bruh.\",\"Mac n cheese dude! Ultimate comfort food vibes.\",\"Dude that butter chicken was like BOOM! My mouth is still partying.\",\"Pav bhaji vibes yaar. Tangy spicy Mumbai street food bliss.\",\"Biryani was a flavor explosion bruh. Spices doing a happy dance.\",\"Biryani was a flavor bomb bro. Spices going wild taste buds dancing.\",\"Paneer tikka masala was lit bro! Creamy spicy yaaas.\",\"Kaju katli fam! Diwali mode: on. Sweet nutty divine.\",\"Delivery happened. I ate. Nothing special.\",\"Alright it was dimly lit like a vampire hangout. But like in a cool way.\",\"Ordered some grub. Ate it all. Alright.\",\"I think they tried to be fancy? There were chandeliers and stuff maybe even gold.\",\"Avo toast? Overrated AF. Just smashed avo on bread like really?\",\"The ambiance was like woah eclectic. I spotted like three different wallpapers.\",\"Samosas fam! Spicy crunchy ultimate comfort food.\",\"Received the order. Had a bite. So-so.\",\"Paneer tikka rolls? Fast food love desi style. Tummy happy.\",\"Biryani was a spice parade yaar. Spices were dancing in my mouth.\",\"Pasta was okay bro. Needed more masala Italian-style desi.\",\"Kadai paneer? Spices level: awesome. Paneer power!\",\"Paneer tikka rolls? Fast food dreams coming true dude.\",\"Tacos were meh ya know? Needed more spice and awesomeness.\",\"There were like waiters in bowties? Or were they clowns? My memorys blurry.\",\"Yo this place was like a whole aesthetic like an art gallery for food or whatever.\",\"Food got here just in time to save me from becoming a hangry monster. Phew!\",\"Didn't get it on time. Very cold food.\",\"Pizza finally got here. Took longer than a sloth running a marathon. Not cool.\",\"Food arrived. I ate. It was okay.\",\"Pasta was okay fam. Needed more masala for desi twist.\",\"So the lighting was like mood lighting but also like regular lighting. Ambiguous.\",\"Sushi was an interesting ride. Sushi samosas anyone?\",\"Biryani was legit da bomb! Spices were like hello flavor town.\",\"Pasta was aight dude. Needed more masala for desi charm.\",\"Ate a snack while waiting for the delivery. And another. And another. You get it.\",\"Ordered then binged a whole show and still no food. Whats the point though?\",\"Pizza was good man. More cheese wouldve been epic though.\",\"I think the delivery person went sightseeing before dropping off my order. So slow.\",\"Pav bhaji was like a party in my mouth. Spicy tangy perfection.\",\"Okay picture this: plants everywhere. Or were they just fake? Hard to say man.\",\"Philly cheesesteak? Cheesy coma bro. Napped like a boss.\",\"Got my order. Ate. Generic stuff.\",\"Okay so they said 30 minutes but I couldve baked a cake in that time. Seriously?\",\"Their delivery game is on point. Food got here quicker than I can say hangry.\",\"I ordered then took a nap and boom foods here. Not sure if thats good or bad.\",\"Pav bhaji was like a flavor explosion dude. Street food awesomeness.\",\"Panipuri was quite horrible. I threw up an hour later.\",\"I was expecting a food coma by now but nope still waiting. Not cool guys.\",\"I felt like I was in a movie you know? Like a rom-com but with more chairs.\",\"Chicken tikka rolls? Fast food heaven right in my mouth.\",\"Ugh they made me wait so long that I aged like 10 years. Food better be worth it.\",\"The vada pav was like feels all over my mouth.\",\"Ramen vibes man. Slurping noodles like a boss college days all over.\",\"Pav bhaji vibes man. Spicy tangy street food at home.\",\"Waiting for the delivery was like watching paint dry. The food better be divine.\",\"Paneer tikka rolls? Desi fast food love every bite a party.\",\"I went in and like felt vibes man. The vibes were like totally vibing.\",\"The delivery was like supersonic fast. I was impressed and my tummys happy.\",\"Biryani game strong fam! Inhaled it faster than my WiFi.\",\"I blinked and the food magically appeared. Not really but they were fast yo!\",\"Dude the joint had like music but I cant remember if it was like jazz or EDM.\",\"Biryani was the flavor hero yaar. Spices were popping party in my mouth.\",\"Food arrived. I had a taste. Pretty standard.\",\"Food was delivered. I ate. Cant complain.\",\"Bao buns? Fluffy clouds of yum. Im in bao heaven.\",\"Ugh it was so cozy you wouldnt believe. I mean they had chairs and tables.\",\"Ordered food. Ate it. Meh.\"],\"legendgroup\":\"\",\"marker\":{\"color\":[0,2,0,1,2,1,1,2,0,0,1,2,0,0,1,0,1,1,2,0,1,1,2,0,0,2,1,0,2,1,2,1,0,1,0,1,1,1,1,1,1,1,1,0,2,0,2,1,2,1,0,1,1,1,1,1,1,2,2,0,0,0,0,1,2,1,1,1,0,0,0,0,1,2,1,0,0,0,0,1,1,0,2,1,0,1,1,1,0,1,2,0,1,0,2,1,0,0,1,2,0],\"coloraxis\":\"coloraxis\",\"symbol\":\"circle\",\"size\":5},\"mode\":\"markers\",\"name\":\"\",\"scene\":\"scene\",\"showlegend\":false,\"x\":[6.19450569152832,12.540129661560059,7.390542030334473,8.274703979492188,12.586668014526367,8.739859580993652,8.782682418823242,12.704042434692383,6.789894104003906,7.246938228607178,7.453421115875244,12.167837142944336,6.822706699371338,6.326203346252441,7.583676338195801,6.3194451332092285,8.854133605957031,8.316811561584473,13.070280075073242,5.988205432891846,8.677674293518066,7.570111274719238,7.456429481506348,6.908805847167969,7.3061418533325195,12.849773406982422,7.9928154945373535,7.205799102783203,12.750312805175781,7.721460342407227,12.49406909942627,7.91859245300293,6.677562713623047,7.933567047119141,7.306917190551758,9.188762664794922,7.436901092529297,7.857046127319336,8.333754539489746,7.624911308288574,7.418731212615967,9.139286041259766,8.541025161743164,7.188672065734863,12.397220611572266,6.578683376312256,12.414674758911133,7.890832424163818,12.107177734375,8.096864700317383,6.887737274169922,9.00252914428711,7.6547932624816895,8.738588333129883,8.985201835632324,8.957438468933105,7.392785549163818,12.725712776184082,12.181324005126953,6.8210015296936035,7.2770490646362305,7.2987751960754395,7.356703281402588,8.868534088134766,12.358256340026855,7.644287586212158,7.312032699584961,8.916006088256836,6.806502342224121,6.871133327484131,7.612548828125,6.16649866104126,7.950552940368652,12.68962574005127,7.634585380554199,6.828819274902344,7.010590076446533,6.554932594299316,6.522046089172363,7.835454940795898,8.879915237426758,6.932349681854248,12.583142280578613,8.666500091552734,6.657517910003662,7.777568340301514,8.220525741577148,8.119906425476074,6.778778076171875,8.886797904968262,12.375929832458496,6.504040718078613,7.461035251617432,6.985422134399414,12.786364555358887,7.646373748779297,7.306800842285156,7.180426120758057,8.55776309967041,12.58197021484375,7.080225467681885],\"y\":[8.137197494506836,6.55982780456543,8.605386734008789,8.550694465637207,5.864552021026611,8.70835018157959,8.500800132751465,5.747213840484619,8.063810348510742,8.715437889099121,9.44808578491211,6.409974098205566,7.927926540374756,8.394977569580078,8.734917640686035,7.7793450355529785,8.309823989868164,9.103515625,6.091996192932129,8.225257873535156,9.137507438659668,9.591217994689941,8.061769485473633,7.7660956382751465,8.216914176940918,6.349171161651611,8.418540954589844,8.628471374511719,5.842878818511963,9.450298309326172,6.16145658493042,9.654552459716797,7.953149318695068,8.72564697265625,8.257018089294434,8.84156608581543,8.501547813415527,9.149288177490234,8.89374828338623,9.44245433807373,9.529073715209961,9.012471199035645,8.81764030456543,8.19887924194336,5.978236198425293,7.609348773956299,6.39485502243042,9.602426528930664,6.216379165649414,9.375718116760254,7.731049537658691,8.777326583862305,9.270538330078125,8.239001274108887,8.972654342651367,9.019396781921387,9.275432586669922,6.301570415496826,6.296916484832764,7.99226188659668,8.324953079223633,8.22593879699707,7.945068359375,8.603448867797852,6.12700080871582,9.539986610412598,9.342280387878418,8.428106307983398,8.281200408935547,7.433568477630615,8.53547477722168,8.233498573303223,8.80704116821289,6.591315746307373,8.642768859863281,7.443084716796875,8.509114265441895,8.251919746398926,7.8208394050598145,8.967918395996094,9.452016830444336,7.975172996520996,5.941671848297119,9.087282180786133,7.734194755554199,8.843271255493164,8.732927322387695,8.81248950958252,8.46221923828125,8.91071891784668,5.678167819976807,8.271167755126953,9.290681838989258,8.077771186828613,5.840199947357178,9.427298545837402,8.304445266723633,8.179621696472168,9.302791595458984,6.273818016052246,7.569938659667969],\"z\":[6.652743816375732,2.960218667984009,6.050246715545654,0.9403141736984253,3.665645122528076,2.2000584602355957,3.0604214668273926,3.208801746368408,5.703756332397461,3.945500135421753,1.0476374626159668,3.512368679046631,7.138416290283203,6.96834659576416,2.940781831741333,7.008150577545166,3.0075857639312744,1.2685977220535278,3.5334620475769043,6.769759178161621,1.1757851839065552,1.6309537887573242,6.225305080413818,5.899489879608154,7.04317045211792,3.5869321823120117,3.5926759243011475,4.239789962768555,3.362253189086914,1.712453007698059,3.25399112701416,1.581207275390625,5.0023040771484375,2.4624571800231934,6.253148078918457,1.909752607345581,2.8187999725341797,2.8041129112243652,0.9559429287910461,-0.007884318940341473,0.11434173583984375,1.6209088563919067,0.975121796131134,7.057908535003662,3.49973201751709,7.02515172958374,3.0030782222747803,1.855638027191162,3.4577810764312744,1.7635763883590698,7.1205339431762695,2.019038200378418,0.13060785830020905,2.8478775024414062,1.4257501363754272,1.8669050931930542,2.0711891651153564,2.9918501377105713,3.4630961418151855,5.437313079833984,6.102461814880371,4.973073959350586,6.828530788421631,2.7747559547424316,3.609114408493042,1.4542940855026245,0.10606345534324646,2.830190658569336,7.109058856964111,6.368074893951416,3.664813280105591,7.004683971405029,0.9053023457527161,3.3682796955108643,3.2301647663116455,6.792349338531494,5.988189220428467,5.92352294921875,6.33526611328125,0.7320294380187988,1.5007942914962769,6.546627521514893,3.0419485569000244,2.164633274078369,6.057486534118652,0.8690993189811707,2.0769975185394287,1.339487910270691,6.692897796630859,1.8892570734024048,3.4711811542510986,7.045954704284668,0.19004011154174805,5.947934627532959,3.492300271987915,0.3668007254600525,6.655057907104492,6.751147270202637,1.8834928274154663,2.839184045791626,6.697932243347168],\"type\":\"scatter3d\"}],                        {\"template\":{\"data\":{\"histogram2dcontour\":[{\"type\":\"histogram2dcontour\",\"colorbar\":{\"outlinewidth\":0,\"ticks\":\"\"},\"colorscale\":[[0.0,\"#0d0887\"],[0.1111111111111111,\"#46039f\"],[0.2222222222222222,\"#7201a8\"],[0.3333333333333333,\"#9c179e\"],[0.4444444444444444,\"#bd3786\"],[0.5555555555555556,\"#d8576b\"],[0.6666666666666666,\"#ed7953\"],[0.7777777777777778,\"#fb9f3a\"],[0.8888888888888888,\"#fdca26\"],[1.0,\"#f0f921\"]]}],\"choropleth\":[{\"type\":\"choropleth\",\"colorbar\":{\"outlinewidth\":0,\"ticks\":\"\"}}],\"histogram2d\":[{\"type\":\"histogram2d\",\"colorbar\":{\"outlinewidth\":0,\"ticks\":\"\"},\"colorscale\":[[0.0,\"#0d0887\"],[0.1111111111111111,\"#46039f\"],[0.2222222222222222,\"#7201a8\"],[0.3333333333333333,\"#9c179e\"],[0.4444444444444444,\"#bd3786\"],[0.5555555555555556,\"#d8576b\"],[0.6666666666666666,\"#ed7953\"],[0.7777777777777778,\"#fb9f3a\"],[0.8888888888888888,\"#fdca26\"],[1.0,\"#f0f921\"]]}],\"heatmap\":[{\"type\":\"heatmap\",\"colorbar\":{\"outlinewidth\":0,\"ticks\":\"\"},\"colorscale\":[[0.0,\"#0d0887\"],[0.1111111111111111,\"#46039f\"],[0.2222222222222222,\"#7201a8\"],[0.3333333333333333,\"#9c179e\"],[0.4444444444444444,\"#bd3786\"],[0.5555555555555556,\"#d8576b\"],[0.6666666666666666,\"#ed7953\"],[0.7777777777777778,\"#fb9f3a\"],[0.8888888888888888,\"#fdca26\"],[1.0,\"#f0f921\"]]}],\"heatmapgl\":[{\"type\":\"heatmapgl\",\"colorbar\":{\"outlinewidth\":0,\"ticks\":\"\"},\"colorscale\":[[0.0,\"#0d0887\"],[0.1111111111111111,\"#46039f\"],[0.2222222222222222,\"#7201a8\"],[0.3333333333333333,\"#9c179e\"],[0.4444444444444444,\"#bd3786\"],[0.5555555555555556,\"#d8576b\"],[0.6666666666666666,\"#ed7953\"],[0.7777777777777778,\"#fb9f3a\"],[0.8888888888888888,\"#fdca26\"],[1.0,\"#f0f921\"]]}],\"contourcarpet\":[{\"type\":\"contourcarpet\",\"colorbar\":{\"outlinewidth\":0,\"ticks\":\"\"}}],\"contour\":[{\"type\":\"contour\",\"colorbar\":{\"outlinewidth\":0,\"ticks\":\"\"},\"colorscale\":[[0.0,\"#0d0887\"],[0.1111111111111111,\"#46039f\"],[0.2222222222222222,\"#7201a8\"],[0.3333333333333333,\"#9c179e\"],[0.4444444444444444,\"#bd3786\"],[0.5555555555555556,\"#d8576b\"],[0.6666666666666666,\"#ed7953\"],[0.7777777777777778,\"#fb9f3a\"],[0.8888888888888888,\"#fdca26\"],[1.0,\"#f0f921\"]]}],\"surface\":[{\"type\":\"surface\",\"colorbar\":{\"outlinewidth\":0,\"ticks\":\"\"},\"colorscale\":[[0.0,\"#0d0887\"],[0.1111111111111111,\"#46039f\"],[0.2222222222222222,\"#7201a8\"],[0.3333333333333333,\"#9c179e\"],[0.4444444444444444,\"#bd3786\"],[0.5555555555555556,\"#d8576b\"],[0.6666666666666666,\"#ed7953\"],[0.7777777777777778,\"#fb9f3a\"],[0.8888888888888888,\"#fdca26\"],[1.0,\"#f0f921\"]]}],\"mesh3d\":[{\"type\":\"mesh3d\",\"colorbar\":{\"outlinewidth\":0,\"ticks\":\"\"}}],\"scatter\":[{\"fillpattern\":{\"fillmode\":\"overlay\",\"size\":10,\"solidity\":0.2},\"type\":\"scatter\"}],\"parcoords\":[{\"type\":\"parcoords\",\"line\":{\"colorbar\":{\"outlinewidth\":0,\"ticks\":\"\"}}}],\"scatterpolargl\":[{\"type\":\"scatterpolargl\",\"marker\":{\"colorbar\":{\"outlinewidth\":0,\"ticks\":\"\"}}}],\"bar\":[{\"error_x\":{\"color\":\"#2a3f5f\"},\"error_y\":{\"color\":\"#2a3f5f\"},\"marker\":{\"line\":{\"color\":\"#E5ECF6\",\"width\":0.5},\"pattern\":{\"fillmode\":\"overlay\",\"size\":10,\"solidity\":0.2}},\"type\":\"bar\"}],\"scattergeo\":[{\"type\":\"scattergeo\",\"marker\":{\"colorbar\":{\"outlinewidth\":0,\"ticks\":\"\"}}}],\"scatterpolar\":[{\"type\":\"scatterpolar\",\"marker\":{\"colorbar\":{\"outlinewidth\":0,\"ticks\":\"\"}}}],\"histogram\":[{\"marker\":{\"pattern\":{\"fillmode\":\"overlay\",\"size\":10,\"solidity\":0.2}},\"type\":\"histogram\"}],\"scattergl\":[{\"type\":\"scattergl\",\"marker\":{\"colorbar\":{\"outlinewidth\":0,\"ticks\":\"\"}}}],\"scatter3d\":[{\"type\":\"scatter3d\",\"line\":{\"colorbar\":{\"outlinewidth\":0,\"ticks\":\"\"}},\"marker\":{\"colorbar\":{\"outlinewidth\":0,\"ticks\":\"\"}}}],\"scattermapbox\":[{\"type\":\"scattermapbox\",\"marker\":{\"colorbar\":{\"outlinewidth\":0,\"ticks\":\"\"}}}],\"scatterternary\":[{\"type\":\"scatterternary\",\"marker\":{\"colorbar\":{\"outlinewidth\":0,\"ticks\":\"\"}}}],\"scattercarpet\":[{\"type\":\"scattercarpet\",\"marker\":{\"colorbar\":{\"outlinewidth\":0,\"ticks\":\"\"}}}],\"carpet\":[{\"aaxis\":{\"endlinecolor\":\"#2a3f5f\",\"gridcolor\":\"white\",\"linecolor\":\"white\",\"minorgridcolor\":\"white\",\"startlinecolor\":\"#2a3f5f\"},\"baxis\":{\"endlinecolor\":\"#2a3f5f\",\"gridcolor\":\"white\",\"linecolor\":\"white\",\"minorgridcolor\":\"white\",\"startlinecolor\":\"#2a3f5f\"},\"type\":\"carpet\"}],\"table\":[{\"cells\":{\"fill\":{\"color\":\"#EBF0F8\"},\"line\":{\"color\":\"white\"}},\"header\":{\"fill\":{\"color\":\"#C8D4E3\"},\"line\":{\"color\":\"white\"}},\"type\":\"table\"}],\"barpolar\":[{\"marker\":{\"line\":{\"color\":\"#E5ECF6\",\"width\":0.5},\"pattern\":{\"fillmode\":\"overlay\",\"size\":10,\"solidity\":0.2}},\"type\":\"barpolar\"}],\"pie\":[{\"automargin\":true,\"type\":\"pie\"}]},\"layout\":{\"autotypenumbers\":\"strict\",\"colorway\":[\"#636efa\",\"#EF553B\",\"#00cc96\",\"#ab63fa\",\"#FFA15A\",\"#19d3f3\",\"#FF6692\",\"#B6E880\",\"#FF97FF\",\"#FECB52\"],\"font\":{\"color\":\"#2a3f5f\"},\"hovermode\":\"closest\",\"hoverlabel\":{\"align\":\"left\"},\"paper_bgcolor\":\"white\",\"plot_bgcolor\":\"#E5ECF6\",\"polar\":{\"bgcolor\":\"#E5ECF6\",\"angularaxis\":{\"gridcolor\":\"white\",\"linecolor\":\"white\",\"ticks\":\"\"},\"radialaxis\":{\"gridcolor\":\"white\",\"linecolor\":\"white\",\"ticks\":\"\"}},\"ternary\":{\"bgcolor\":\"#E5ECF6\",\"aaxis\":{\"gridcolor\":\"white\",\"linecolor\":\"white\",\"ticks\":\"\"},\"baxis\":{\"gridcolor\":\"white\",\"linecolor\":\"white\",\"ticks\":\"\"},\"caxis\":{\"gridcolor\":\"white\",\"linecolor\":\"white\",\"ticks\":\"\"}},\"coloraxis\":{\"colorbar\":{\"outlinewidth\":0,\"ticks\":\"\"}},\"colorscale\":{\"sequential\":[[0.0,\"#0d0887\"],[0.1111111111111111,\"#46039f\"],[0.2222222222222222,\"#7201a8\"],[0.3333333333333333,\"#9c179e\"],[0.4444444444444444,\"#bd3786\"],[0.5555555555555556,\"#d8576b\"],[0.6666666666666666,\"#ed7953\"],[0.7777777777777778,\"#fb9f3a\"],[0.8888888888888888,\"#fdca26\"],[1.0,\"#f0f921\"]],\"sequentialminus\":[[0.0,\"#0d0887\"],[0.1111111111111111,\"#46039f\"],[0.2222222222222222,\"#7201a8\"],[0.3333333333333333,\"#9c179e\"],[0.4444444444444444,\"#bd3786\"],[0.5555555555555556,\"#d8576b\"],[0.6666666666666666,\"#ed7953\"],[0.7777777777777778,\"#fb9f3a\"],[0.8888888888888888,\"#fdca26\"],[1.0,\"#f0f921\"]],\"diverging\":[[0,\"#8e0152\"],[0.1,\"#c51b7d\"],[0.2,\"#de77ae\"],[0.3,\"#f1b6da\"],[0.4,\"#fde0ef\"],[0.5,\"#f7f7f7\"],[0.6,\"#e6f5d0\"],[0.7,\"#b8e186\"],[0.8,\"#7fbc41\"],[0.9,\"#4d9221\"],[1,\"#276419\"]]},\"xaxis\":{\"gridcolor\":\"white\",\"linecolor\":\"white\",\"ticks\":\"\",\"title\":{\"standoff\":15},\"zerolinecolor\":\"white\",\"automargin\":true,\"zerolinewidth\":2},\"yaxis\":{\"gridcolor\":\"white\",\"linecolor\":\"white\",\"ticks\":\"\",\"title\":{\"standoff\":15},\"zerolinecolor\":\"white\",\"automargin\":true,\"zerolinewidth\":2},\"scene\":{\"xaxis\":{\"backgroundcolor\":\"#E5ECF6\",\"gridcolor\":\"white\",\"linecolor\":\"white\",\"showbackground\":true,\"ticks\":\"\",\"zerolinecolor\":\"white\",\"gridwidth\":2},\"yaxis\":{\"backgroundcolor\":\"#E5ECF6\",\"gridcolor\":\"white\",\"linecolor\":\"white\",\"showbackground\":true,\"ticks\":\"\",\"zerolinecolor\":\"white\",\"gridwidth\":2},\"zaxis\":{\"backgroundcolor\":\"#E5ECF6\",\"gridcolor\":\"white\",\"linecolor\":\"white\",\"showbackground\":true,\"ticks\":\"\",\"zerolinecolor\":\"white\",\"gridwidth\":2}},\"shapedefaults\":{\"line\":{\"color\":\"#2a3f5f\"}},\"annotationdefaults\":{\"arrowcolor\":\"#2a3f5f\",\"arrowhead\":0,\"arrowwidth\":1},\"geo\":{\"bgcolor\":\"white\",\"landcolor\":\"#E5ECF6\",\"subunitcolor\":\"white\",\"showland\":true,\"showlakes\":true,\"lakecolor\":\"white\"},\"title\":{\"x\":0.05},\"mapbox\":{\"style\":\"light\"}}},\"scene\":{\"domain\":{\"x\":[0.0,1.0],\"y\":[0.0,1.0]},\"xaxis\":{\"title\":{\"text\":\"x\"}},\"yaxis\":{\"title\":{\"text\":\"y\"}},\"zaxis\":{\"title\":{\"text\":\"z\"}}},\"coloraxis\":{\"colorbar\":{\"title\":{\"text\":\"Cluster\"}},\"colorscale\":[[0.0,\"#0d0887\"],[0.1111111111111111,\"#46039f\"],[0.2222222222222222,\"#7201a8\"],[0.3333333333333333,\"#9c179e\"],[0.4444444444444444,\"#bd3786\"],[0.5555555555555556,\"#d8576b\"],[0.6666666666666666,\"#ed7953\"],[0.7777777777777778,\"#fb9f3a\"],[0.8888888888888888,\"#fdca26\"],[1.0,\"#f0f921\"]]},\"legend\":{\"tracegroupgap\":0},\"title\":{\"text\":\"Food App Reviews 3D Embeddings\"}},                        {\"responsive\": true}                    ).then(function(){\n",
              "                            \n",
              "var gd = document.getElementById('08375774-7b5e-4253-af56-6da99a7d1a7b');\n",
              "var x = new MutationObserver(function (mutations, observer) {{\n",
              "        var display = window.getComputedStyle(gd).display;\n",
              "        if (!display || display === 'none') {{\n",
              "            console.log([gd, 'removed!']);\n",
              "            Plotly.purge(gd);\n",
              "            observer.disconnect();\n",
              "        }}\n",
              "}});\n",
              "\n",
              "// Listen for the removal of the full notebook cells\n",
              "var notebookContainer = gd.closest('#notebook-container');\n",
              "if (notebookContainer) {{\n",
              "    x.observe(notebookContainer, {childList: true});\n",
              "}}\n",
              "\n",
              "// Listen for the clearing of the current output cell\n",
              "var outputEl = gd.closest('.output');\n",
              "if (outputEl) {{\n",
              "    x.observe(outputEl, {childList: true});\n",
              "}}\n",
              "\n",
              "                        })                };                            </script>        </div>\n",
              "</body>\n",
              "</html>"
            ]
          },
          "metadata": {}
        }
      ]
    }
  ]
}